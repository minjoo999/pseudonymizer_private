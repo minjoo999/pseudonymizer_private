{
 "cells": [
  {
   "cell_type": "markdown",
   "metadata": {},
   "source": [
    "## 테스트 시나리오\n",
    "1. 모듈 활용 배경 및 가명처리 대상 시나리오\n",
    "- 에코마케팅 김모 마케터는 신한카드에서 고객 데이터를 사와서 마케팅 연구 용도로 사용하려고 한다.\n",
    "- 이 과정에서 고객 데이터 중 유독 재식별 가능성이 높은 컬럼들을 골라서 가명처리를 하려고 한다.\n",
    "- 가명처리 대상: DATA_FINANCE 중 INCOME_BRACKET(소득분위), CREDIT_SCORE(신용평점), AMT_CREDITCARD_PAYMENT(신용카드 결제액), AMT_CREDITLOAN(카드론 액수) 컬럼\n",
    "- 가명처리 대상 2. DATA_RETAIL 중 AMT_PURCHASES_BOOKS, AMT_PURCHASES_CULTURE, AMT_PURCHASES_EDU\n",
    "2. 모듈 적용 절차\n",
    "- 테이블에서 분류 지표가 될만한 컬럼들을 가지고 동질집합을 만든뒤, 그 동질집합을 기반으로 가명처리 모듈, 프라이버시 보호모델 모듈을 적용시킨다\n",
    "- 그 이후 성과지표가 어느 정도로 나오는지를 알아본다\n",
    "- 가명처리된 결과물을 갖고\n",
    "-> 결과물 데이터프레임을 DB에 넣은 뒤\n",
    "-> 결합모듈로 결합을 수행한 뒤 결합된 데이터 + 결합못한 데이터를 합쳐 DB에 저장 (합칠때, 결합된건지 아닌건지 식별 해줘야함)"
   ]
  },
  {
   "cell_type": "markdown",
   "metadata": {},
   "source": [
    "## 모듈 불러오기"
   ]
  },
  {
   "cell_type": "code",
   "execution_count": 1,
   "metadata": {},
   "outputs": [],
   "source": [
    "import re\n",
    "\n",
    "from prettytable import PrettyTable\n",
    "import pandas as pd\n",
    "pd.options.display.float_format = '{:.30f}'.format\n",
    "import pprint\n",
    "\n",
    "import numpy as np\n",
    "import matplotlib.pyplot as plt\n",
    "import seaborn as sns\n",
    "import sys"
   ]
  },
  {
   "cell_type": "code",
   "execution_count": 2,
   "metadata": {},
   "outputs": [],
   "source": [
    "sys.path.append(\"/Users/minjoo/codeStudy/psudonymizerTeam/pseudonymizer\")"
   ]
  },
  {
   "cell_type": "markdown",
   "metadata": {},
   "source": [
    "## 가명처리"
   ]
  },
  {
   "cell_type": "markdown",
   "metadata": {},
   "source": [
    "### 데이터 불러오기"
   ]
  },
  {
   "cell_type": "code",
   "execution_count": 3,
   "metadata": {},
   "outputs": [],
   "source": [
    "from pseudonymizer.encryptionPseudonyms.pyMySQLQuery import *"
   ]
  },
  {
   "cell_type": "code",
   "execution_count": 4,
   "metadata": {},
   "outputs": [],
   "source": [
    "queryObject = PyMySQLQuery(pw = \"1234\")"
   ]
  },
  {
   "cell_type": "code",
   "execution_count": 5,
   "metadata": {},
   "outputs": [],
   "source": [
    "queryObject.connectDatabase(\n",
    "    serverIP = \"localhost\", \n",
    "    port_num = 3306, \n",
    "    user_name = \"root\", \n",
    "    database_name = \"FINANCIALCONSUMER\", \n",
    "    kr_encoder = \"utf8\")\n",
    "SQL = \"SELECT * FROM DATA_FINANCE\"\n",
    "queryObject.dataQueryLanguage(sql = SQL)"
   ]
  },
  {
   "cell_type": "code",
   "execution_count": 6,
   "metadata": {},
   "outputs": [],
   "source": [
    "DATA_FINANCE_TABLE = queryObject.executeQueryAsDataFrame()"
   ]
  },
  {
   "cell_type": "code",
   "execution_count": 7,
   "metadata": {},
   "outputs": [
    {
     "data": {
      "text/plain": [
       "count   95000.000000000000000000000000000000\n",
       "mean       49.930178947368418107544130180031\n",
       "std        29.133233080242330714781928691082\n",
       "min         0.000000000000000000000000000000\n",
       "25%        25.000000000000000000000000000000\n",
       "50%        50.000000000000000000000000000000\n",
       "75%        75.000000000000000000000000000000\n",
       "max       100.000000000000000000000000000000\n",
       "Name: REPAYMENT_RISK_INDEX, dtype: float64"
      ]
     },
     "execution_count": 7,
     "metadata": {},
     "output_type": "execute_result"
    }
   ],
   "source": [
    "DATA_FINANCE_TABLE[\"REPAYMENT_RISK_INDEX\"].describe()"
   ]
  },
  {
   "cell_type": "code",
   "execution_count": 8,
   "metadata": {},
   "outputs": [],
   "source": [
    "queryObject2 = PyMySQLQuery(pw = \"1234\")\n",
    "queryObject2.connectDatabase(\n",
    "    serverIP = \"localhost\", \n",
    "    port_num = 3306, \n",
    "    user_name = \"root\", \n",
    "    database_name = \"FINANCIALCONSUMER\", \n",
    "    kr_encoder = \"utf8\")\n",
    "SQL2 = \"SELECT * FROM DATA_RETAIL\"\n",
    "queryObject2.dataQueryLanguage(sql = SQL2)"
   ]
  },
  {
   "cell_type": "code",
   "execution_count": 9,
   "metadata": {},
   "outputs": [],
   "source": [
    "DATA_RETAIL_TABLE = queryObject2.executeQueryAsDataFrame()"
   ]
  },
  {
   "cell_type": "code",
   "execution_count": 10,
   "metadata": {},
   "outputs": [
    {
     "name": "stdout",
     "output_type": "stream",
     "text": [
      "<class 'pandas.core.frame.DataFrame'>\n",
      "RangeIndex: 95000 entries, 0 to 94999\n",
      "Data columns (total 20 columns):\n",
      " #   Column                      Non-Null Count  Dtype \n",
      "---  ------                      --------------  ----- \n",
      " 0   NUM_SERIAL                  95000 non-null  int64 \n",
      " 1   NAME                        95000 non-null  object\n",
      " 2   GENDER                      95000 non-null  object\n",
      " 3   AGE                         95000 non-null  int64 \n",
      " 4   PHONE_NUMBER                95000 non-null  object\n",
      " 5   ZIP_CODE                    95000 non-null  int64 \n",
      " 6   HOME_ADDRESS                95000 non-null  object\n",
      " 7   HOME_TYPE                   95000 non-null  object\n",
      " 8   INCOME_BRACKET              95000 non-null  int64 \n",
      " 9   CREDIT_SCORE                95000 non-null  int64 \n",
      " 10  REPAYMENT_RISK_INDEX        95000 non-null  int64 \n",
      " 11  AMT_CREDITCARD_PAYMENT      95000 non-null  int64 \n",
      " 12  AMT_CASHADVANCE_PAYMENT     95000 non-null  int64 \n",
      " 13  NUM_CREDITCARD_ISSUANCES    95000 non-null  int64 \n",
      " 14  NUM_CREDITCARD_CANCELED     95000 non-null  int64 \n",
      " 15  TF_LOAN                     95000 non-null  object\n",
      " 16  AMT_CREDITLOAN              95000 non-null  int64 \n",
      " 17  AMT_CREDITLOAN_OUTSTANDING  95000 non-null  int64 \n",
      " 18  TF_PENSION                  95000 non-null  object\n",
      " 19  AMT_PENSION                 95000 non-null  int64 \n",
      "dtypes: int64(13), object(7)\n",
      "memory usage: 14.5+ MB\n"
     ]
    },
    {
     "data": {
      "text/html": [
       "<div>\n",
       "<style scoped>\n",
       "    .dataframe tbody tr th:only-of-type {\n",
       "        vertical-align: middle;\n",
       "    }\n",
       "\n",
       "    .dataframe tbody tr th {\n",
       "        vertical-align: top;\n",
       "    }\n",
       "\n",
       "    .dataframe thead th {\n",
       "        text-align: right;\n",
       "    }\n",
       "</style>\n",
       "<table border=\"1\" class=\"dataframe\">\n",
       "  <thead>\n",
       "    <tr style=\"text-align: right;\">\n",
       "      <th></th>\n",
       "      <th>NUM_SERIAL</th>\n",
       "      <th>NAME</th>\n",
       "      <th>GENDER</th>\n",
       "      <th>AGE</th>\n",
       "      <th>PHONE_NUMBER</th>\n",
       "      <th>ZIP_CODE</th>\n",
       "      <th>HOME_ADDRESS</th>\n",
       "      <th>HOME_TYPE</th>\n",
       "      <th>INCOME_BRACKET</th>\n",
       "      <th>CREDIT_SCORE</th>\n",
       "      <th>REPAYMENT_RISK_INDEX</th>\n",
       "      <th>AMT_CREDITCARD_PAYMENT</th>\n",
       "      <th>AMT_CASHADVANCE_PAYMENT</th>\n",
       "      <th>NUM_CREDITCARD_ISSUANCES</th>\n",
       "      <th>NUM_CREDITCARD_CANCELED</th>\n",
       "      <th>TF_LOAN</th>\n",
       "      <th>AMT_CREDITLOAN</th>\n",
       "      <th>AMT_CREDITLOAN_OUTSTANDING</th>\n",
       "      <th>TF_PENSION</th>\n",
       "      <th>AMT_PENSION</th>\n",
       "    </tr>\n",
       "  </thead>\n",
       "  <tbody>\n",
       "    <tr>\n",
       "      <th>0</th>\n",
       "      <td>0</td>\n",
       "      <td>강현심</td>\n",
       "      <td>female</td>\n",
       "      <td>80</td>\n",
       "      <td>010-1826-4535</td>\n",
       "      <td>27218</td>\n",
       "      <td>충청북도 제천시 수산면 옥순봉로6길 61-32</td>\n",
       "      <td>판잣집, 비닐하우스</td>\n",
       "      <td>6</td>\n",
       "      <td>441</td>\n",
       "      <td>61</td>\n",
       "      <td>5357418</td>\n",
       "      <td>8583708</td>\n",
       "      <td>3</td>\n",
       "      <td>5</td>\n",
       "      <td>N</td>\n",
       "      <td>0</td>\n",
       "      <td>0</td>\n",
       "      <td>N</td>\n",
       "      <td>0</td>\n",
       "    </tr>\n",
       "    <tr>\n",
       "      <th>1</th>\n",
       "      <td>1</td>\n",
       "      <td>서삼봉</td>\n",
       "      <td>female</td>\n",
       "      <td>30</td>\n",
       "      <td>010-1765-1467</td>\n",
       "      <td>12736</td>\n",
       "      <td>경기도 광주시 초월읍 도곡길 109-9</td>\n",
       "      <td>다세대주택</td>\n",
       "      <td>8</td>\n",
       "      <td>515</td>\n",
       "      <td>10</td>\n",
       "      <td>8870904</td>\n",
       "      <td>5328233</td>\n",
       "      <td>3</td>\n",
       "      <td>1</td>\n",
       "      <td>N</td>\n",
       "      <td>0</td>\n",
       "      <td>0</td>\n",
       "      <td>N</td>\n",
       "      <td>0</td>\n",
       "    </tr>\n",
       "    <tr>\n",
       "      <th>2</th>\n",
       "      <td>2</td>\n",
       "      <td>팽상아</td>\n",
       "      <td>female</td>\n",
       "      <td>53</td>\n",
       "      <td>010-6593-5091</td>\n",
       "      <td>51292</td>\n",
       "      <td>경상남도 창원시 마산회원구 회원남32길 28-1(회원동)</td>\n",
       "      <td>판잣집, 비닐하우스</td>\n",
       "      <td>1</td>\n",
       "      <td>269</td>\n",
       "      <td>17</td>\n",
       "      <td>8525658</td>\n",
       "      <td>2005663</td>\n",
       "      <td>6</td>\n",
       "      <td>5</td>\n",
       "      <td>N</td>\n",
       "      <td>0</td>\n",
       "      <td>0</td>\n",
       "      <td>N</td>\n",
       "      <td>0</td>\n",
       "    </tr>\n",
       "    <tr>\n",
       "      <th>3</th>\n",
       "      <td>3</td>\n",
       "      <td>박옥점</td>\n",
       "      <td>female</td>\n",
       "      <td>26</td>\n",
       "      <td>010-7714-1345</td>\n",
       "      <td>58541</td>\n",
       "      <td>전라남도 무안군 청계면 구로길 65</td>\n",
       "      <td>다가구 단독주택</td>\n",
       "      <td>7</td>\n",
       "      <td>254</td>\n",
       "      <td>10</td>\n",
       "      <td>2593007</td>\n",
       "      <td>8944424</td>\n",
       "      <td>4</td>\n",
       "      <td>1</td>\n",
       "      <td>N</td>\n",
       "      <td>0</td>\n",
       "      <td>0</td>\n",
       "      <td>N</td>\n",
       "      <td>0</td>\n",
       "    </tr>\n",
       "    <tr>\n",
       "      <th>4</th>\n",
       "      <td>4</td>\n",
       "      <td>윤경념</td>\n",
       "      <td>female</td>\n",
       "      <td>69</td>\n",
       "      <td>010-5360-6014</td>\n",
       "      <td>31741</td>\n",
       "      <td>충청남도 당진시 신평면 신평길 64-6</td>\n",
       "      <td>영업 겸용 단독주택</td>\n",
       "      <td>8</td>\n",
       "      <td>590</td>\n",
       "      <td>79</td>\n",
       "      <td>411525</td>\n",
       "      <td>5125357</td>\n",
       "      <td>5</td>\n",
       "      <td>3</td>\n",
       "      <td>N</td>\n",
       "      <td>0</td>\n",
       "      <td>0</td>\n",
       "      <td>N</td>\n",
       "      <td>0</td>\n",
       "    </tr>\n",
       "  </tbody>\n",
       "</table>\n",
       "</div>"
      ],
      "text/plain": [
       "   NUM_SERIAL NAME  GENDER  AGE   PHONE_NUMBER  ZIP_CODE  \\\n",
       "0           0  강현심  female   80  010-1826-4535     27218   \n",
       "1           1  서삼봉  female   30  010-1765-1467     12736   \n",
       "2           2  팽상아  female   53  010-6593-5091     51292   \n",
       "3           3  박옥점  female   26  010-7714-1345     58541   \n",
       "4           4  윤경념  female   69  010-5360-6014     31741   \n",
       "\n",
       "                      HOME_ADDRESS   HOME_TYPE  INCOME_BRACKET  CREDIT_SCORE  \\\n",
       "0        충청북도 제천시 수산면 옥순봉로6길 61-32  판잣집, 비닐하우스               6           441   \n",
       "1            경기도 광주시 초월읍 도곡길 109-9       다세대주택               8           515   \n",
       "2  경상남도 창원시 마산회원구 회원남32길 28-1(회원동)  판잣집, 비닐하우스               1           269   \n",
       "3              전라남도 무안군 청계면 구로길 65    다가구 단독주택               7           254   \n",
       "4            충청남도 당진시 신평면 신평길 64-6  영업 겸용 단독주택               8           590   \n",
       "\n",
       "   REPAYMENT_RISK_INDEX  AMT_CREDITCARD_PAYMENT  AMT_CASHADVANCE_PAYMENT  \\\n",
       "0                    61                 5357418                  8583708   \n",
       "1                    10                 8870904                  5328233   \n",
       "2                    17                 8525658                  2005663   \n",
       "3                    10                 2593007                  8944424   \n",
       "4                    79                  411525                  5125357   \n",
       "\n",
       "   NUM_CREDITCARD_ISSUANCES  NUM_CREDITCARD_CANCELED TF_LOAN  AMT_CREDITLOAN  \\\n",
       "0                         3                        5       N               0   \n",
       "1                         3                        1       N               0   \n",
       "2                         6                        5       N               0   \n",
       "3                         4                        1       N               0   \n",
       "4                         5                        3       N               0   \n",
       "\n",
       "   AMT_CREDITLOAN_OUTSTANDING TF_PENSION  AMT_PENSION  \n",
       "0                           0          N            0  \n",
       "1                           0          N            0  \n",
       "2                           0          N            0  \n",
       "3                           0          N            0  \n",
       "4                           0          N            0  "
      ]
     },
     "execution_count": 10,
     "metadata": {},
     "output_type": "execute_result"
    }
   ],
   "source": [
    "DATA_FINANCE_TABLE.info()\n",
    "DATA_FINANCE_TABLE.head(5)"
   ]
  },
  {
   "cell_type": "code",
   "execution_count": 11,
   "metadata": {},
   "outputs": [
    {
     "name": "stdout",
     "output_type": "stream",
     "text": [
      "<class 'pandas.core.frame.DataFrame'>\n",
      "RangeIndex: 85000 entries, 0 to 84999\n",
      "Data columns (total 16 columns):\n",
      " #   Column                     Non-Null Count  Dtype \n",
      "---  ------                     --------------  ----- \n",
      " 0   NUM_SERIAL                 85000 non-null  int64 \n",
      " 1   NAME                       85000 non-null  object\n",
      " 2   GENDER                     85000 non-null  object\n",
      " 3   AGE                        85000 non-null  int64 \n",
      " 4   JOIN_DATE                  85000 non-null  object\n",
      " 5   PHONE_NUMBER               85000 non-null  object\n",
      " 6   ZIP_CODE                   85000 non-null  int64 \n",
      " 7   SHIPPING_ADDRESS           85000 non-null  object\n",
      " 8   NUM_PURCHASES_BOOKS        85000 non-null  int64 \n",
      " 9   AMT_PURCHASES_BOOKS        85000 non-null  int64 \n",
      " 10  NUM_PURCHASES_CULTURE      85000 non-null  int64 \n",
      " 11  AMT_PURCHASES_CULTURE      85000 non-null  int64 \n",
      " 12  NUM_PURCHASES_EDU          85000 non-null  int64 \n",
      " 13  AMT_PURCHASES_EDU          85000 non-null  int64 \n",
      " 14  AMT_USAGE_MEMBERSHIP       85000 non-null  int64 \n",
      " 15  AMT_USAGE_GIFTCERTIFICATE  85000 non-null  int64 \n",
      "dtypes: int64(11), object(5)\n",
      "memory usage: 10.4+ MB\n"
     ]
    }
   ],
   "source": [
    "DATA_RETAIL_TABLE.info()\n",
    "# DATA_FINANCE_TABLE.head(5)"
   ]
  },
  {
   "cell_type": "markdown",
   "metadata": {},
   "source": [
    "### DATA_FINANCE 가명처리\n",
    "- 가명처리 대상: DATA_FINANCE 중 INCOME_BRACKET(소득분위), CREDIT_SCORE(신용평점), AMT_CREDITCARD_PAYMENT(신용카드 결제액), AMT_CREDITLOAN(카드론 액수) 컬럼\n",
    "- 가명처리 방법\n",
    "    - NAME : MaskingPseudonymizer(data_type=\"name\")\n",
    "    - HOME_ADDRESS : MaskingPseudonymizer(data_type=\"\")\n",
    "    - EMAIL : MaskingPseudonymizer(data_type=\"email\")\n",
    "    - PHONE_NUMBER : MaskingPseudonymizer(data_type=\"phone_number\")\n",
    "    - INCOME_BRACKET\n",
    "        - CategorizationOfNumeric(\"user_definition\", category_mapping={\"1~3분위\": (1, 3), \"4분위\": (4, 4), \"5분위\": (5, 5), \"6분위\": (6, 6), \"7분위\": (7, 7), \"8~10분위\": (8, 10)})\n",
    "    - CREDIT_SCORE : \n",
    "        - 수동: CategorizationOfNumeric(\"user_definition\", category_mapping={\"저신용평점\": (0, 600), \"중신용평점\": (600, 900), \"고신용평점\": (900, 1000)})\n",
    "        - 자동 : CategorizationOfColumn(\"bin\", grouping_standard=[\"저신용평점\", \"중신용평점\", \"고신용평점\"], right=True, ascending=True)\n",
    "    - REPAYMENT_RISK_INDEX :\n",
    "        - CategorizationOfColumn(\"pct\", grouping_standard=5, right=False, ascending=True)\n",
    "    - AMT_CREDITCARD_PAYMENT :\n",
    "        - TopandBottomCoding(outlier_type=\"Pct\")\n",
    "        - KLT 적용 이후 MicroAggregation() 적용\n",
    "        - RandomRoundingPseudonymizer(rounding_type=\"custom_round\")\n",
    "    - AMT_CREDITLOAN (신용대출) : \n",
    "        - TopandBottomCoding(outlier_type=\"IQR\")\n",
    "        - KLT 적용 이후 MicroAggregation() 적용\n",
    "- 동질집합: [TF_LOAN, TF_PENSION, NUM_CREDITCARD_ISSUANCES]"
   ]
  },
  {
   "cell_type": "code",
   "execution_count": null,
   "metadata": {},
   "outputs": [],
   "source": [
    "# 테스트\n",
    "address_masker = AddressMaskingModule(\"시군구\")\n",
    "masked_address = address_masker.pseudonymizeData(\"서울특별시 강남구 역삼동\")\n",
    "print(\"마스킹된 주소:\", masked_address)"
   ]
  },
  {
   "cell_type": "code",
   "execution_count": 12,
   "metadata": {},
   "outputs": [],
   "source": [
    "from pseudonymizer.pseudonym import Pseudonym\n",
    "from pseudonymizer.pseudonymizers.numcategorization import CategorizationOfNumeric\n",
    "from pseudonymizer.pseudonymizers.topandBottomCoding import TopandBottomCoding\n",
    "from pseudonymizer.pseudonymizers.columncategorization import CategorizationOfColumn\n",
    "from pseudonymizer.pseudonymizers.microAggregation import MicroAggregation\n",
    "from pseudonymizer.pseudonymizers.maskingPseudonymizer import MaskingPseudonymizer"
   ]
  },
  {
   "cell_type": "code",
   "execution_count": 13,
   "metadata": {},
   "outputs": [],
   "source": [
    "from pseudonymizer.privacyPreservingModels import PrivacyPreservingModel"
   ]
  },
  {
   "cell_type": "code",
   "execution_count": 25,
   "metadata": {},
   "outputs": [],
   "source": [
    "name_pseudo = MaskingPseudonymizer(data_type=\"name\")\n",
    "home_address_pseudo = MaskingPseudonymizer(data_type=\"address\") # 현재 주소는 주소로 인식 안됨\n",
    "phone_pseudo = MaskingPseudonymizer(data_type=\"phone_number\")"
   ]
  },
  {
   "cell_type": "code",
   "execution_count": 26,
   "metadata": {},
   "outputs": [],
   "source": [
    "income_pseudo = CategorizationOfNumeric(numeric_type=\"user_definition\", \n",
    "                                        category_mapping={\"1~3분위\": (1, 3), \"4분위\": (4, 4), \"5분위\": (5, 5), \n",
    "                                                          \"6분위\": (6, 6), \"7분위\": (7, 7), \"8~10분위\": (8, 10)})\n",
    "credit_pseudo_user = CategorizationOfNumeric(numeric_type=\"user_definition\",\n",
    "                                             category_mapping={\"저신용평점\": (0, 600), \"중신용평점\": (600, 900), \"고신용평점\": (900, 1000)})\n",
    "credit_pseudo_auto = CategorizationOfColumn(numeric_type=\"bin\", grouping_standard=[\"저신용평점\", \"중신용평점\", \"고신용평점\"], \n",
    "                                            right=True, ascending=True)\n",
    "repayment_risk_pseudo = CategorizationOfColumn(numeric_type=\"pct\", grouping_standard=5, right=False, ascending=True)"
   ]
  },
  {
   "cell_type": "code",
   "execution_count": 27,
   "metadata": {},
   "outputs": [],
   "source": [
    "card_pay_pseudo = TopandBottomCoding(outlier_type=\"Pct\", bounded_value=0.1)"
   ]
  },
  {
   "cell_type": "code",
   "execution_count": null,
   "metadata": {},
   "outputs": [],
   "source": [
    "# ppm = PrivacyPreservingModel(dataframe=DATA_FINANCE_TABLE, epsilon=)"
   ]
  },
  {
   "cell_type": "code",
   "execution_count": 28,
   "metadata": {},
   "outputs": [],
   "source": [
    "credit_loan_pseudo = TopandBottomCoding(outlier_type=\"IQR\", bounded_value=0.1)"
   ]
  },
  {
   "cell_type": "code",
   "execution_count": 29,
   "metadata": {},
   "outputs": [],
   "source": [
    "pseudonymizer = Pseudonym(dataframe=DATA_FINANCE_TABLE)"
   ]
  },
  {
   "cell_type": "code",
   "execution_count": 30,
   "metadata": {},
   "outputs": [],
   "source": [
    "pseudonymizer.categorizeEquivalentClass([\"TF_LOAN\", \"TF_PENSION\", \"NUM_CREDITCARD_ISSUANCES\"])"
   ]
  },
  {
   "cell_type": "code",
   "execution_count": 31,
   "metadata": {},
   "outputs": [],
   "source": [
    "pseudonymizer.addDictionary(column=\"NAME\", pseudonymizers=[name_pseudo])\n",
    "# pseudonymizer.addDictionary(column=\"HOME_ADDRESS\", pseudonymizers=[home_address_pseudo])\n",
    "# pseudonymizer.addDictionary(column=\"PHONE_NUMBER\", pseudonymizers=[phone_pseudo])"
   ]
  },
  {
   "cell_type": "code",
   "execution_count": 32,
   "metadata": {},
   "outputs": [],
   "source": [
    "pseudonymizer.addDictionary(column=\"INCOME_BRACKET\", pseudonymizers=[income_pseudo])\n",
    "pseudonymizer.addDictionary(column=\"CREDIT_SCORE\", pseudonymizers=[credit_pseudo_user, credit_pseudo_auto])\n",
    "pseudonymizer.addDictionary(column=\"REPAYMENT_RISK_INDEX\", pseudonymizers=[repayment_risk_pseudo])\n",
    "pseudonymizer.addDictionary(column=\"AMT_CREDITCARD_PAYMENT\", pseudonymizers=[card_pay_pseudo])\n",
    "pseudonymizer.addDictionary(column=\"AMT_CREDITLOAN\", pseudonymizers=[credit_loan_pseudo])"
   ]
  },
  {
   "cell_type": "code",
   "execution_count": 33,
   "metadata": {},
   "outputs": [
    {
     "data": {
      "text/plain": [
       "{'NAME': [<pseudonymizer.pseudonymizers.maskingPseudonymizer.MaskingPseudonymizer at 0x3030e4a10>],\n",
       " 'INCOME_BRACKET': [<pseudonymizer.pseudonymizers.numcategorization.CategorizationOfNumeric at 0x303111a50>],\n",
       " 'CREDIT_SCORE': [<pseudonymizer.pseudonymizers.numcategorization.CategorizationOfNumeric at 0x303111a10>,\n",
       "  <pseudonymizer.pseudonymizers.columncategorization.CategorizationOfColumn at 0x17fafd110>],\n",
       " 'REPAYMENT_RISK_INDEX': [<pseudonymizer.pseudonymizers.columncategorization.CategorizationOfColumn at 0x17fafc050>],\n",
       " 'AMT_CREDITCARD_PAYMENT': [<pseudonymizer.pseudonymizers.topandBottomCoding.TopandBottomCoding at 0x17f621990>],\n",
       " 'AMT_CREDITLOAN': [<pseudonymizer.pseudonymizers.topandBottomCoding.TopandBottomCoding at 0x17fafebd0>]}"
      ]
     },
     "execution_count": 33,
     "metadata": {},
     "output_type": "execute_result"
    }
   ],
   "source": [
    "pseudonymizer._pseudonymDictionary"
   ]
  },
  {
   "cell_type": "markdown",
   "metadata": {},
   "source": [
    "- MaskingPseudonymizer name, address, phone number 전부 수정 필요"
   ]
  },
  {
   "cell_type": "code",
   "execution_count": 34,
   "metadata": {},
   "outputs": [
    {
     "ename": "TypeError",
     "evalue": "can only concatenate str (not \"float\") to str",
     "output_type": "error",
     "traceback": [
      "\u001b[0;31m---------------------------------------------------------------------------\u001b[0m",
      "\u001b[0;31mTypeError\u001b[0m                                 Traceback (most recent call last)",
      "Cell \u001b[0;32mIn[34], line 1\u001b[0m\n\u001b[0;32m----> 1\u001b[0m pseudonymizer\u001b[38;5;241m.\u001b[39mpseudonymizeData()\n",
      "File \u001b[0;32m~/codeStudy/psudonymizerTeam/pseudonymizer/pseudonymizer/pseudonym.py:55\u001b[0m, in \u001b[0;36mPseudonym.pseudonymizeData\u001b[0;34m(self)\u001b[0m\n\u001b[1;32m     53\u001b[0m \u001b[38;5;28;01mfor\u001b[39;00m pseudonymizer \u001b[38;5;129;01min\u001b[39;00m pseudonymizers:\n\u001b[1;32m     54\u001b[0m     \u001b[38;5;28;01mif\u001b[39;00m \u001b[38;5;28misinstance\u001b[39m(pseudonymizer, CategorizationOfColumn) \u001b[38;5;129;01mor\u001b[39;00m \u001b[38;5;28misinstance\u001b[39m(pseudonymizer, TopandBottomCoding): \n\u001b[0;32m---> 55\u001b[0m         \u001b[38;5;28mself\u001b[39m\u001b[38;5;241m.\u001b[39m_dataframe[column] \u001b[38;5;241m=\u001b[39m pseudonymizer\u001b[38;5;241m.\u001b[39mpseudonymizeData(\u001b[38;5;28mself\u001b[39m\u001b[38;5;241m.\u001b[39m_dataframe[column])\n\u001b[1;32m     56\u001b[0m     \u001b[38;5;28;01melif\u001b[39;00m \u001b[38;5;28misinstance\u001b[39m(pseudonymizer, MicroAggregation):\n\u001b[1;32m     57\u001b[0m         \u001b[38;5;28mself\u001b[39m\u001b[38;5;241m.\u001b[39m_dataframe[column] \u001b[38;5;241m=\u001b[39m pseudonymizer\u001b[38;5;241m.\u001b[39mpseudonymizeData(\u001b[38;5;28mself\u001b[39m\u001b[38;5;241m.\u001b[39m_dataframe, column, \u001b[38;5;28mself\u001b[39m\u001b[38;5;241m.\u001b[39mequivalent_class)\n",
      "File \u001b[0;32m~/codeStudy/psudonymizerTeam/pseudonymizer/pseudonymizer/pseudonymizers/columncategorization.py:15\u001b[0m, in \u001b[0;36mCategorizationOfColumn.pseudonymizeData\u001b[0;34m(self, df)\u001b[0m\n\u001b[1;32m     13\u001b[0m \u001b[38;5;250m\u001b[39m\u001b[38;5;124;03m\"\"\"식별성이 높은 그룹을 하나로 묶는 메서드\"\"\"\u001b[39;00m\n\u001b[1;32m     14\u001b[0m \u001b[38;5;28;01mif\u001b[39;00m \u001b[38;5;28mself\u001b[39m\u001b[38;5;241m.\u001b[39mnumeric_type \u001b[38;5;241m==\u001b[39m \u001b[38;5;124m\"\u001b[39m\u001b[38;5;124mbin\u001b[39m\u001b[38;5;124m\"\u001b[39m:\n\u001b[0;32m---> 15\u001b[0m     \u001b[38;5;28;01mreturn\u001b[39;00m \u001b[38;5;28mself\u001b[39m\u001b[38;5;241m.\u001b[39mpseudonymizeAmountbyBin(df, \u001b[38;5;28mself\u001b[39m\u001b[38;5;241m.\u001b[39mgrouping_standard, \u001b[38;5;28mself\u001b[39m\u001b[38;5;241m.\u001b[39mright, \u001b[38;5;28mself\u001b[39m\u001b[38;5;241m.\u001b[39mascending)\n\u001b[1;32m     16\u001b[0m \u001b[38;5;28;01melif\u001b[39;00m \u001b[38;5;28mself\u001b[39m\u001b[38;5;241m.\u001b[39mnumeric_type \u001b[38;5;241m==\u001b[39m \u001b[38;5;124m\"\u001b[39m\u001b[38;5;124mpct\u001b[39m\u001b[38;5;124m\"\u001b[39m:\n\u001b[1;32m     17\u001b[0m     \u001b[38;5;28;01mreturn\u001b[39;00m \u001b[38;5;28mself\u001b[39m\u001b[38;5;241m.\u001b[39mpseudonymizeAmountbyPct(df, \u001b[38;5;28mself\u001b[39m\u001b[38;5;241m.\u001b[39mgrouping_standard, \u001b[38;5;28mself\u001b[39m\u001b[38;5;241m.\u001b[39mright, \u001b[38;5;28mself\u001b[39m\u001b[38;5;241m.\u001b[39mascending)        \n",
      "File \u001b[0;32m~/codeStudy/psudonymizerTeam/pseudonymizer/pseudonymizer/pseudonymizers/columncategorization.py:75\u001b[0m, in \u001b[0;36mCategorizationOfColumn.pseudonymizeAmountbyBin\u001b[0;34m(self, df, grouping_standard, right, ascending)\u001b[0m\n\u001b[1;32m     73\u001b[0m \u001b[38;5;28;01mif\u001b[39;00m \u001b[38;5;28misinstance\u001b[39m(grouping_standard, \u001b[38;5;28mlist\u001b[39m):\n\u001b[1;32m     74\u001b[0m     num \u001b[38;5;241m=\u001b[39m \u001b[38;5;28mlen\u001b[39m(grouping_standard)\n\u001b[0;32m---> 75\u001b[0m     df \u001b[38;5;241m=\u001b[39m pd\u001b[38;5;241m.\u001b[39mcut(df, bins \u001b[38;5;241m=\u001b[39m num, labels \u001b[38;5;241m=\u001b[39m grouping_standard, right \u001b[38;5;241m=\u001b[39m right)\n\u001b[1;32m     76\u001b[0m     \u001b[38;5;28;01mreturn\u001b[39;00m df\n\u001b[1;32m     78\u001b[0m \u001b[38;5;28;01melif\u001b[39;00m \u001b[38;5;28misinstance\u001b[39m(grouping_standard, \u001b[38;5;28mint\u001b[39m):\n",
      "File \u001b[0;32m/opt/homebrew/anaconda3/lib/python3.11/site-packages/pandas/core/reshape/tile.py:259\u001b[0m, in \u001b[0;36mcut\u001b[0;34m(x, bins, right, labels, retbins, precision, include_lowest, duplicates, ordered)\u001b[0m\n\u001b[1;32m    256\u001b[0m     \u001b[38;5;28;01mraise\u001b[39;00m \u001b[38;5;167;01mValueError\u001b[39;00m(\u001b[38;5;124m\"\u001b[39m\u001b[38;5;124mCannot cut empty array\u001b[39m\u001b[38;5;124m\"\u001b[39m)\n\u001b[1;32m    258\u001b[0m rng \u001b[38;5;241m=\u001b[39m (nanops\u001b[38;5;241m.\u001b[39mnanmin(x), nanops\u001b[38;5;241m.\u001b[39mnanmax(x))\n\u001b[0;32m--> 259\u001b[0m mn, mx \u001b[38;5;241m=\u001b[39m (mi \u001b[38;5;241m+\u001b[39m \u001b[38;5;241m0.0\u001b[39m \u001b[38;5;28;01mfor\u001b[39;00m mi \u001b[38;5;129;01min\u001b[39;00m rng)\n\u001b[1;32m    261\u001b[0m \u001b[38;5;28;01mif\u001b[39;00m np\u001b[38;5;241m.\u001b[39misinf(mn) \u001b[38;5;129;01mor\u001b[39;00m np\u001b[38;5;241m.\u001b[39misinf(mx):\n\u001b[1;32m    262\u001b[0m     \u001b[38;5;66;03m# GH 24314\u001b[39;00m\n\u001b[1;32m    263\u001b[0m     \u001b[38;5;28;01mraise\u001b[39;00m \u001b[38;5;167;01mValueError\u001b[39;00m(\n\u001b[1;32m    264\u001b[0m         \u001b[38;5;124m\"\u001b[39m\u001b[38;5;124mcannot specify integer `bins` when input data contains infinity\u001b[39m\u001b[38;5;124m\"\u001b[39m\n\u001b[1;32m    265\u001b[0m     )\n",
      "File \u001b[0;32m/opt/homebrew/anaconda3/lib/python3.11/site-packages/pandas/core/reshape/tile.py:259\u001b[0m, in \u001b[0;36m<genexpr>\u001b[0;34m(.0)\u001b[0m\n\u001b[1;32m    256\u001b[0m     \u001b[38;5;28;01mraise\u001b[39;00m \u001b[38;5;167;01mValueError\u001b[39;00m(\u001b[38;5;124m\"\u001b[39m\u001b[38;5;124mCannot cut empty array\u001b[39m\u001b[38;5;124m\"\u001b[39m)\n\u001b[1;32m    258\u001b[0m rng \u001b[38;5;241m=\u001b[39m (nanops\u001b[38;5;241m.\u001b[39mnanmin(x), nanops\u001b[38;5;241m.\u001b[39mnanmax(x))\n\u001b[0;32m--> 259\u001b[0m mn, mx \u001b[38;5;241m=\u001b[39m (mi \u001b[38;5;241m+\u001b[39m \u001b[38;5;241m0.0\u001b[39m \u001b[38;5;28;01mfor\u001b[39;00m mi \u001b[38;5;129;01min\u001b[39;00m rng)\n\u001b[1;32m    261\u001b[0m \u001b[38;5;28;01mif\u001b[39;00m np\u001b[38;5;241m.\u001b[39misinf(mn) \u001b[38;5;129;01mor\u001b[39;00m np\u001b[38;5;241m.\u001b[39misinf(mx):\n\u001b[1;32m    262\u001b[0m     \u001b[38;5;66;03m# GH 24314\u001b[39;00m\n\u001b[1;32m    263\u001b[0m     \u001b[38;5;28;01mraise\u001b[39;00m \u001b[38;5;167;01mValueError\u001b[39;00m(\n\u001b[1;32m    264\u001b[0m         \u001b[38;5;124m\"\u001b[39m\u001b[38;5;124mcannot specify integer `bins` when input data contains infinity\u001b[39m\u001b[38;5;124m\"\u001b[39m\n\u001b[1;32m    265\u001b[0m     )\n",
      "\u001b[0;31mTypeError\u001b[0m: can only concatenate str (not \"float\") to str"
     ]
    }
   ],
   "source": [
    "pseudonymizer.pseudonymizeData()"
   ]
  },
  {
   "cell_type": "markdown",
   "metadata": {},
   "source": [
    "### DATA_RETAIL 가명처리\n",
    "- AMT_PURCHASES_BOOKS, AMT_PURCHASES_CULTURE, AMT_PURCHASES_EDU\n",
    "- 차분프라이버시 적용 (라플라스 or 가우시안 하나씩 해보기)\n",
    "- AMT_PURCHASES_BOOKS -> 가우시안, 나머지 라플라스\n",
    "- 동질집합: [\"AGE\", \"GENDER\"]\n",
    "- 개인정보 마스킹: NAME, PHONE_NUMBER, ZIP_CODE, SHIPPING_ADDRESS\n",
    "- JOIN_DATE (날짜 컬럼) -> CategorizationOfNumeric(numeric_type=\"age\", grouping_standard=\"3bin\")"
   ]
  },
  {
   "cell_type": "code",
   "execution_count": 35,
   "metadata": {},
   "outputs": [
    {
     "name": "stdout",
     "output_type": "stream",
     "text": [
      "<class 'pandas.core.frame.DataFrame'>\n",
      "RangeIndex: 85000 entries, 0 to 84999\n",
      "Data columns (total 16 columns):\n",
      " #   Column                     Non-Null Count  Dtype \n",
      "---  ------                     --------------  ----- \n",
      " 0   NUM_SERIAL                 85000 non-null  int64 \n",
      " 1   NAME                       85000 non-null  object\n",
      " 2   GENDER                     85000 non-null  object\n",
      " 3   AGE                        85000 non-null  int64 \n",
      " 4   JOIN_DATE                  85000 non-null  object\n",
      " 5   PHONE_NUMBER               85000 non-null  object\n",
      " 6   ZIP_CODE                   85000 non-null  int64 \n",
      " 7   SHIPPING_ADDRESS           85000 non-null  object\n",
      " 8   NUM_PURCHASES_BOOKS        85000 non-null  int64 \n",
      " 9   AMT_PURCHASES_BOOKS        85000 non-null  int64 \n",
      " 10  NUM_PURCHASES_CULTURE      85000 non-null  int64 \n",
      " 11  AMT_PURCHASES_CULTURE      85000 non-null  int64 \n",
      " 12  NUM_PURCHASES_EDU          85000 non-null  int64 \n",
      " 13  AMT_PURCHASES_EDU          85000 non-null  int64 \n",
      " 14  AMT_USAGE_MEMBERSHIP       85000 non-null  int64 \n",
      " 15  AMT_USAGE_GIFTCERTIFICATE  85000 non-null  int64 \n",
      "dtypes: int64(11), object(5)\n",
      "memory usage: 10.4+ MB\n"
     ]
    }
   ],
   "source": [
    "DATA_RETAIL_TABLE.info()"
   ]
  },
  {
   "cell_type": "code",
   "execution_count": 36,
   "metadata": {},
   "outputs": [
    {
     "data": {
      "image/png": "[encoded data removed]",
      "text/plain": [
       "<Figure size 640x480 with 1 Axes>"
      ]
     },
     "metadata": {},
     "output_type": "display_data"
    }
   ],
   "source": [
    "plt.hist(DATA_RETAIL_TABLE[\"AMT_PURCHASES_EDU\"], color = \"blue\", alpha = 0.9)\n",
    "plt.hist(DATA_RETAIL_TABLE[\"AMT_PURCHASES_CULTURE\"], color = \"green\", alpha = 0.5)\n",
    "plt.hist(DATA_RETAIL_TABLE[\"AMT_PURCHASES_BOOKS\"], color = \"orange\", alpha = 0.5)\n",
    "plt.show()"
   ]
  },
  {
   "cell_type": "code",
   "execution_count": 37,
   "metadata": {},
   "outputs": [],
   "source": [
    "from pseudonymizer.privacyPreservingModels import PrivacyPreservingModel"
   ]
  },
  {
   "cell_type": "code",
   "execution_count": 38,
   "metadata": {},
   "outputs": [],
   "source": [
    "books_pseudo = PrivacyPreservingModel(dataframe=DATA_RETAIL_TABLE, epsilon=1)"
   ]
  },
  {
   "cell_type": "code",
   "execution_count": null,
   "metadata": {},
   "outputs": [],
   "source": [
    "culture_pseudo = PrivacyPreservingModel()"
   ]
  },
  {
   "cell_type": "markdown",
   "metadata": {},
   "source": []
  },
  {
   "cell_type": "code",
   "execution_count": null,
   "metadata": {},
   "outputs": [],
   "source": []
  },
  {
   "cell_type": "code",
   "execution_count": null,
   "metadata": {},
   "outputs": [],
   "source": []
  },
  {
   "cell_type": "code",
   "execution_count": null,
   "metadata": {},
   "outputs": [],
   "source": []
  },
  {
   "cell_type": "code",
   "execution_count": null,
   "metadata": {},
   "outputs": [],
   "source": []
  },
  {
   "cell_type": "code",
   "execution_count": null,
   "metadata": {},
   "outputs": [],
   "source": []
  },
  {
   "cell_type": "markdown",
   "metadata": {},
   "source": [
    "## 가명결합"
   ]
  },
  {
   "cell_type": "markdown",
   "metadata": {},
   "source": []
  }
 ],
 "metadata": {
  "kernelspec": {
   "display_name": "base",
   "language": "python",
   "name": "python3"
  },
  "language_info": {
   "codemirror_mode": {
    "name": "ipython",
    "version": 3
   },
   "file_extension": ".py",
   "mimetype": "text/x-python",
   "name": "python",
   "nbconvert_exporter": "python",
   "pygments_lexer": "ipython3",
   "version": "3.11.4"
  }
 },
 "nbformat": 4,
 "nbformat_minor": 2
}
