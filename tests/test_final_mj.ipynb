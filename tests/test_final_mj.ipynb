{
 "cells": [
  {
   "cell_type": "markdown",
   "metadata": {},
   "source": [
    "## 테스트 시나리오\n",
    "1. 모듈 활용 배경 및 가명처리 대상 시나리오\n",
    "- 에코마케팅 김모 마케터는 신한카드에서 고객 데이터를 사와서 마케팅 연구 용도로 사용하려고 한다.\n",
    "- 이 과정에서 고객 데이터 중 유독 재식별 가능성이 높은 컬럼들을 골라서 가명처리를 하려고 한다.\n",
    "- 가명처리 대상: DATA_FINANCE 중 INCOME_BRACKET(소득분위), CREDIT_SCORE(신용평점), AMT_CREDITCARD_PAYMENT(신용카드 결제액), AMT_CREDITLOAN(카드론 액수) 컬럼\n",
    "- 가명처리 대상 2. DATA_RETAIL 중 AMT_PURCHASES_BOOKS, AMT_PURCHASES_CULTURE, AMT_PURCHASES_EDU\n",
    "2. 모듈 적용 절차\n",
    "- 테이블에서 분류 지표가 될만한 컬럼들을 가지고 동질집합을 만든뒤, 그 동질집합을 기반으로 가명처리 모듈, 프라이버시 보호모델 모듈을 적용시킨다\n",
    "- 그 이후 성과지표가 어느 정도로 나오는지를 알아본다\n",
    "- 가명처리된 결과물을 갖고\n",
    "-> 결과물 데이터프레임을 DB에 넣은 뒤\n",
    "-> 결합모듈로 결합을 수행한 뒤 결합된 데이터 + 결합못한 데이터를 합쳐 DB에 저장 (합칠때, 결합된건지 아닌건지 식별 해줘야함)"
   ]
  },
  {
   "cell_type": "markdown",
   "metadata": {},
   "source": [
    "## 모듈 불러오기"
   ]
  },
  {
   "cell_type": "code",
   "execution_count": 1,
   "metadata": {},
   "outputs": [],
   "source": [
    "import re\n",
    "\n",
    "from prettytable import PrettyTable\n",
    "import pandas as pd\n",
    "pd.options.display.float_format = '{:.30f}'.format\n",
    "import pprint\n",
    "\n",
    "import numpy as np\n",
    "import matplotlib.pyplot as plt\n",
    "import seaborn as sns\n",
    "import sys"
   ]
  },
  {
   "cell_type": "code",
   "execution_count": 2,
   "metadata": {},
   "outputs": [],
   "source": [
    "sys.path.append(\"/Users/minjoo/codeStudy/psudonymizerTeam/pseudonymizer\")"
   ]
  },
  {
   "cell_type": "markdown",
   "metadata": {},
   "source": [
    "## 가명처리"
   ]
  },
  {
   "cell_type": "markdown",
   "metadata": {},
   "source": [
    "### 데이터 불러오기"
   ]
  },
  {
   "cell_type": "code",
   "execution_count": 3,
   "metadata": {},
   "outputs": [],
   "source": [
    "from pseudonymizer.encryptionPseudonyms.pyMySQLQuery import *"
   ]
  },
  {
   "cell_type": "code",
   "execution_count": 4,
   "metadata": {},
   "outputs": [],
   "source": [
    "queryObject = PyMySQLQuery(pw = \"1234\")"
   ]
  },
  {
   "cell_type": "code",
   "execution_count": 5,
   "metadata": {},
   "outputs": [],
   "source": [
    "queryObject.connectDatabase(\n",
    "    serverIP = \"localhost\", \n",
    "    port_num = 3306, \n",
    "    user_name = \"root\", \n",
    "    database_name = \"FINANCIALCONSUMER\", \n",
    "    kr_encoder = \"utf8\")\n",
    "SQL = \"SELECT * FROM DATA_FINANCE\"\n",
    "queryObject.dataQueryLanguage(sql = SQL)"
   ]
  },
  {
   "cell_type": "code",
   "execution_count": 6,
   "metadata": {},
   "outputs": [],
   "source": [
    "DATA_FINANCE_TABLE = queryObject.executeQueryAsDataFrame()"
   ]
  },
  {
   "cell_type": "code",
   "execution_count": 52,
   "metadata": {},
   "outputs": [
    {
     "data": {
      "text/plain": [
       "count   95000.000000000000000000000000000000\n",
       "mean       49.930178947368418107544130180031\n",
       "std        29.133233080242330714781928691082\n",
       "min         0.000000000000000000000000000000\n",
       "25%        25.000000000000000000000000000000\n",
       "50%        50.000000000000000000000000000000\n",
       "75%        75.000000000000000000000000000000\n",
       "max       100.000000000000000000000000000000\n",
       "Name: REPAYMENT_RISK_INDEX, dtype: float64"
      ]
     },
     "execution_count": 52,
     "metadata": {},
     "output_type": "execute_result"
    }
   ],
   "source": [
    "DATA_FINANCE_TABLE[\"REPAYMENT_RISK_INDEX\"].describe()"
   ]
  },
  {
   "cell_type": "code",
   "execution_count": 7,
   "metadata": {},
   "outputs": [],
   "source": [
    "queryObject2 = PyMySQLQuery(pw = \"1234\")\n",
    "queryObject2.connectDatabase(\n",
    "    serverIP = \"localhost\", \n",
    "    port_num = 3306, \n",
    "    user_name = \"root\", \n",
    "    database_name = \"FINANCIALCONSUMER\", \n",
    "    kr_encoder = \"utf8\")\n",
    "SQL2 = \"SELECT * FROM DATA_RETAIL\"\n",
    "queryObject2.dataQueryLanguage(sql = SQL2)"
   ]
  },
  {
   "cell_type": "code",
   "execution_count": 8,
   "metadata": {},
   "outputs": [],
   "source": [
    "DATA_RETAIL_TABLE = queryObject2.executeQueryAsDataFrame()"
   ]
  },
  {
   "cell_type": "code",
   "execution_count": 9,
   "metadata": {},
   "outputs": [
    {
     "name": "stdout",
     "output_type": "stream",
     "text": [
      "<class 'pandas.core.frame.DataFrame'>\n",
      "RangeIndex: 95000 entries, 0 to 94999\n",
      "Data columns (total 20 columns):\n",
      " #   Column                      Non-Null Count  Dtype \n",
      "---  ------                      --------------  ----- \n",
      " 0   NUM_SERIAL                  95000 non-null  int64 \n",
      " 1   NAME                        95000 non-null  object\n",
      " 2   GENDER                      95000 non-null  object\n",
      " 3   AGE                         95000 non-null  int64 \n",
      " 4   PHONE_NUMBER                95000 non-null  object\n",
      " 5   ZIP_CODE                    95000 non-null  int64 \n",
      " 6   HOME_ADDRESS                95000 non-null  object\n",
      " 7   HOME_TYPE                   95000 non-null  object\n",
      " 8   INCOME_BRACKET              95000 non-null  int64 \n",
      " 9   CREDIT_SCORE                95000 non-null  int64 \n",
      " 10  REPAYMENT_RISK_INDEX        95000 non-null  int64 \n",
      " 11  AMT_CREDITCARD_PAYMENT      95000 non-null  int64 \n",
      " 12  AMT_CASHADVANCE_PAYMENT     95000 non-null  int64 \n",
      " 13  NUM_CREDITCARD_ISSUANCES    95000 non-null  int64 \n",
      " 14  NUM_CREDITCARD_CANCELED     95000 non-null  int64 \n",
      " 15  TF_LOAN                     95000 non-null  object\n",
      " 16  AMT_CREDITLOAN              95000 non-null  int64 \n",
      " 17  AMT_CREDITLOAN_OUTSTANDING  95000 non-null  int64 \n",
      " 18  TF_PENSION                  95000 non-null  object\n",
      " 19  AMT_PENSION                 95000 non-null  int64 \n",
      "dtypes: int64(13), object(7)\n",
      "memory usage: 14.5+ MB\n"
     ]
    },
    {
     "data": {
      "text/html": [
       "<div>\n",
       "<style scoped>\n",
       "    .dataframe tbody tr th:only-of-type {\n",
       "        vertical-align: middle;\n",
       "    }\n",
       "\n",
       "    .dataframe tbody tr th {\n",
       "        vertical-align: top;\n",
       "    }\n",
       "\n",
       "    .dataframe thead th {\n",
       "        text-align: right;\n",
       "    }\n",
       "</style>\n",
       "<table border=\"1\" class=\"dataframe\">\n",
       "  <thead>\n",
       "    <tr style=\"text-align: right;\">\n",
       "      <th></th>\n",
       "      <th>NUM_SERIAL</th>\n",
       "      <th>NAME</th>\n",
       "      <th>GENDER</th>\n",
       "      <th>AGE</th>\n",
       "      <th>PHONE_NUMBER</th>\n",
       "      <th>ZIP_CODE</th>\n",
       "      <th>HOME_ADDRESS</th>\n",
       "      <th>HOME_TYPE</th>\n",
       "      <th>INCOME_BRACKET</th>\n",
       "      <th>CREDIT_SCORE</th>\n",
       "      <th>REPAYMENT_RISK_INDEX</th>\n",
       "      <th>AMT_CREDITCARD_PAYMENT</th>\n",
       "      <th>AMT_CASHADVANCE_PAYMENT</th>\n",
       "      <th>NUM_CREDITCARD_ISSUANCES</th>\n",
       "      <th>NUM_CREDITCARD_CANCELED</th>\n",
       "      <th>TF_LOAN</th>\n",
       "      <th>AMT_CREDITLOAN</th>\n",
       "      <th>AMT_CREDITLOAN_OUTSTANDING</th>\n",
       "      <th>TF_PENSION</th>\n",
       "      <th>AMT_PENSION</th>\n",
       "    </tr>\n",
       "  </thead>\n",
       "  <tbody>\n",
       "    <tr>\n",
       "      <th>0</th>\n",
       "      <td>0</td>\n",
       "      <td>강현심</td>\n",
       "      <td>female</td>\n",
       "      <td>80</td>\n",
       "      <td>010-1826-4535</td>\n",
       "      <td>27218</td>\n",
       "      <td>충청북도 제천시 수산면 옥순봉로6길 61-32</td>\n",
       "      <td>판잣집, 비닐하우스</td>\n",
       "      <td>6</td>\n",
       "      <td>441</td>\n",
       "      <td>61</td>\n",
       "      <td>5357418</td>\n",
       "      <td>8583708</td>\n",
       "      <td>3</td>\n",
       "      <td>5</td>\n",
       "      <td>N</td>\n",
       "      <td>0</td>\n",
       "      <td>0</td>\n",
       "      <td>N</td>\n",
       "      <td>0</td>\n",
       "    </tr>\n",
       "    <tr>\n",
       "      <th>1</th>\n",
       "      <td>1</td>\n",
       "      <td>서삼봉</td>\n",
       "      <td>female</td>\n",
       "      <td>30</td>\n",
       "      <td>010-1765-1467</td>\n",
       "      <td>12736</td>\n",
       "      <td>경기도 광주시 초월읍 도곡길 109-9</td>\n",
       "      <td>다세대주택</td>\n",
       "      <td>8</td>\n",
       "      <td>515</td>\n",
       "      <td>10</td>\n",
       "      <td>8870904</td>\n",
       "      <td>5328233</td>\n",
       "      <td>3</td>\n",
       "      <td>1</td>\n",
       "      <td>N</td>\n",
       "      <td>0</td>\n",
       "      <td>0</td>\n",
       "      <td>N</td>\n",
       "      <td>0</td>\n",
       "    </tr>\n",
       "    <tr>\n",
       "      <th>2</th>\n",
       "      <td>2</td>\n",
       "      <td>팽상아</td>\n",
       "      <td>female</td>\n",
       "      <td>53</td>\n",
       "      <td>010-6593-5091</td>\n",
       "      <td>51292</td>\n",
       "      <td>경상남도 창원시 마산회원구 회원남32길 28-1(회원동)</td>\n",
       "      <td>판잣집, 비닐하우스</td>\n",
       "      <td>1</td>\n",
       "      <td>269</td>\n",
       "      <td>17</td>\n",
       "      <td>8525658</td>\n",
       "      <td>2005663</td>\n",
       "      <td>6</td>\n",
       "      <td>5</td>\n",
       "      <td>N</td>\n",
       "      <td>0</td>\n",
       "      <td>0</td>\n",
       "      <td>N</td>\n",
       "      <td>0</td>\n",
       "    </tr>\n",
       "    <tr>\n",
       "      <th>3</th>\n",
       "      <td>3</td>\n",
       "      <td>박옥점</td>\n",
       "      <td>female</td>\n",
       "      <td>26</td>\n",
       "      <td>010-7714-1345</td>\n",
       "      <td>58541</td>\n",
       "      <td>전라남도 무안군 청계면 구로길 65</td>\n",
       "      <td>다가구 단독주택</td>\n",
       "      <td>7</td>\n",
       "      <td>254</td>\n",
       "      <td>10</td>\n",
       "      <td>2593007</td>\n",
       "      <td>8944424</td>\n",
       "      <td>4</td>\n",
       "      <td>1</td>\n",
       "      <td>N</td>\n",
       "      <td>0</td>\n",
       "      <td>0</td>\n",
       "      <td>N</td>\n",
       "      <td>0</td>\n",
       "    </tr>\n",
       "    <tr>\n",
       "      <th>4</th>\n",
       "      <td>4</td>\n",
       "      <td>윤경념</td>\n",
       "      <td>female</td>\n",
       "      <td>69</td>\n",
       "      <td>010-5360-6014</td>\n",
       "      <td>31741</td>\n",
       "      <td>충청남도 당진시 신평면 신평길 64-6</td>\n",
       "      <td>영업 겸용 단독주택</td>\n",
       "      <td>8</td>\n",
       "      <td>590</td>\n",
       "      <td>79</td>\n",
       "      <td>411525</td>\n",
       "      <td>5125357</td>\n",
       "      <td>5</td>\n",
       "      <td>3</td>\n",
       "      <td>N</td>\n",
       "      <td>0</td>\n",
       "      <td>0</td>\n",
       "      <td>N</td>\n",
       "      <td>0</td>\n",
       "    </tr>\n",
       "  </tbody>\n",
       "</table>\n",
       "</div>"
      ],
      "text/plain": [
       "   NUM_SERIAL NAME  GENDER  AGE   PHONE_NUMBER  ZIP_CODE  \\\n",
       "0           0  강현심  female   80  010-1826-4535     27218   \n",
       "1           1  서삼봉  female   30  010-1765-1467     12736   \n",
       "2           2  팽상아  female   53  010-6593-5091     51292   \n",
       "3           3  박옥점  female   26  010-7714-1345     58541   \n",
       "4           4  윤경념  female   69  010-5360-6014     31741   \n",
       "\n",
       "                      HOME_ADDRESS   HOME_TYPE  INCOME_BRACKET  CREDIT_SCORE  \\\n",
       "0        충청북도 제천시 수산면 옥순봉로6길 61-32  판잣집, 비닐하우스               6           441   \n",
       "1            경기도 광주시 초월읍 도곡길 109-9       다세대주택               8           515   \n",
       "2  경상남도 창원시 마산회원구 회원남32길 28-1(회원동)  판잣집, 비닐하우스               1           269   \n",
       "3              전라남도 무안군 청계면 구로길 65    다가구 단독주택               7           254   \n",
       "4            충청남도 당진시 신평면 신평길 64-6  영업 겸용 단독주택               8           590   \n",
       "\n",
       "   REPAYMENT_RISK_INDEX  AMT_CREDITCARD_PAYMENT  AMT_CASHADVANCE_PAYMENT  \\\n",
       "0                    61                 5357418                  8583708   \n",
       "1                    10                 8870904                  5328233   \n",
       "2                    17                 8525658                  2005663   \n",
       "3                    10                 2593007                  8944424   \n",
       "4                    79                  411525                  5125357   \n",
       "\n",
       "   NUM_CREDITCARD_ISSUANCES  NUM_CREDITCARD_CANCELED TF_LOAN  AMT_CREDITLOAN  \\\n",
       "0                         3                        5       N               0   \n",
       "1                         3                        1       N               0   \n",
       "2                         6                        5       N               0   \n",
       "3                         4                        1       N               0   \n",
       "4                         5                        3       N               0   \n",
       "\n",
       "   AMT_CREDITLOAN_OUTSTANDING TF_PENSION  AMT_PENSION  \n",
       "0                           0          N            0  \n",
       "1                           0          N            0  \n",
       "2                           0          N            0  \n",
       "3                           0          N            0  \n",
       "4                           0          N            0  "
      ]
     },
     "execution_count": 9,
     "metadata": {},
     "output_type": "execute_result"
    }
   ],
   "source": [
    "DATA_FINANCE_TABLE.info()\n",
    "DATA_FINANCE_TABLE.head(5)"
   ]
  },
  {
   "cell_type": "code",
   "execution_count": 10,
   "metadata": {},
   "outputs": [
    {
     "name": "stdout",
     "output_type": "stream",
     "text": [
      "<class 'pandas.core.frame.DataFrame'>\n",
      "RangeIndex: 85000 entries, 0 to 84999\n",
      "Data columns (total 16 columns):\n",
      " #   Column                     Non-Null Count  Dtype \n",
      "---  ------                     --------------  ----- \n",
      " 0   NUM_SERIAL                 85000 non-null  int64 \n",
      " 1   NAME                       85000 non-null  object\n",
      " 2   GENDER                     85000 non-null  object\n",
      " 3   AGE                        85000 non-null  int64 \n",
      " 4   JOIN_DATE                  85000 non-null  object\n",
      " 5   PHONE_NUMBER               85000 non-null  object\n",
      " 6   ZIP_CODE                   85000 non-null  int64 \n",
      " 7   SHIPPING_ADDRESS           85000 non-null  object\n",
      " 8   NUM_PURCHASES_BOOKS        85000 non-null  int64 \n",
      " 9   AMT_PURCHASES_BOOKS        85000 non-null  int64 \n",
      " 10  NUM_PURCHASES_CULTURE      85000 non-null  int64 \n",
      " 11  AMT_PURCHASES_CULTURE      85000 non-null  int64 \n",
      " 12  NUM_PURCHASES_EDU          85000 non-null  int64 \n",
      " 13  AMT_PURCHASES_EDU          85000 non-null  int64 \n",
      " 14  AMT_USAGE_MEMBERSHIP       85000 non-null  int64 \n",
      " 15  AMT_USAGE_GIFTCERTIFICATE  85000 non-null  int64 \n",
      "dtypes: int64(11), object(5)\n",
      "memory usage: 10.4+ MB\n"
     ]
    }
   ],
   "source": [
    "DATA_RETAIL_TABLE.info()\n",
    "# DATA_FINANCE_TABLE.head(5)"
   ]
  },
  {
   "cell_type": "markdown",
   "metadata": {},
   "source": [
    "### DATA_FINANCE 가명처리\n",
    "- 가명처리 대상: DATA_FINANCE 중 INCOME_BRACKET(소득분위), CREDIT_SCORE(신용평점), AMT_CREDITCARD_PAYMENT(신용카드 결제액), AMT_CREDITLOAN(카드론 액수) 컬럼\n",
    "- 가명처리 방법\n",
    "    - NAME : MaskingPseudonymizer(data_type=\"name\")\n",
    "    - HOME_ADDRESS : MaskingPseudonymizer(data_type=\"\")\n",
    "    - EMAIL : MaskingPseudonymizer(data_type=\"email\")\n",
    "    - PHONE_NUMBER : MaskingPseudonymizer(data_type=\"phone_number\")\n",
    "    - INCOME_BRACKET\n",
    "        - CategorizationOfNumeric(\"user_definition\", category_mapping={\"1~3분위\": (1, 3), \"4분위\": (4, 4), \"5분위\": (5, 5), \"6분위\": (6, 6), \"7분위\": (7, 7), \"8~10분위\": (8, 10)})\n",
    "    - CREDIT_SCORE : \n",
    "        - 수동: CategorizationOfNumeric(\"user_definition\", category_mapping={\"저신용평점\": (0, 600), \"중신용평점\": (600, 900), \"고신용평점\": (900, 1000)})\n",
    "        - 자동 : CategorizationOfColumn(\"bin\", grouping_standard=[\"저신용평점\", \"중신용평점\", \"고신용평점\"], right=True, ascending=True)\n",
    "    - REPAYMENT_RISK_INDEX :\n",
    "        - CategorizationOfColumn(\"pct\", grouping_standard=5, right=False, ascending=True)\n",
    "    - AMT_CREDITCARD_PAYMENT :\n",
    "        - TopandBottomCoding(outlier_type=\"Pct\")\n",
    "        - KLT 적용 이후 MicroAggregation() 적용\n",
    "        - RandomRoundingPseudonymizer(rounding_type=\"custom_round\")\n",
    "    - AMT_CREDITLOAN (신용대출) : \n",
    "        - TopandBottomCoding(outlier_type=\"IQR\")\n",
    "        - KLT 적용 이후 MicroAggregation() 적용\n",
    "- 동질집합: [TF_LOAN, TF_PENSION, NUM_CREDITCARD_ISSUANCES]"
   ]
  },
  {
   "cell_type": "code",
   "execution_count": 51,
   "metadata": {},
   "outputs": [
    {
     "name": "stdout",
     "output_type": "stream",
     "text": [
      "YES\n"
     ]
    }
   ],
   "source": [
    "a = [(1, 1)]\n",
    "b = 1\n",
    "for i, j in a:\n",
    "    if i <=  b <= j:\n",
    "        print(\"YES\")\n",
    "    else:\n",
    "        print(\"NO\")"
   ]
  },
  {
   "cell_type": "code",
   "execution_count": 22,
   "metadata": {},
   "outputs": [],
   "source": [
    "# from pseudonymizer.pseudonym import Pseudonym\n",
    "from pseudonymizer.pseudonymizers.numcategorization import CategorizationOfNumeric\n",
    "# from pseudonymizer.pseudonymizers.topandBottomCoding import TopandBottomCoding\n",
    "from pseudonymizer.pseudonymizers.columncategorization import CategorizationOfColumn\n",
    "from pseudonymizer.pseudonymizers.microAggregation import MicroAggregation"
   ]
  },
  {
   "cell_type": "code",
   "execution_count": 23,
   "metadata": {},
   "outputs": [],
   "source": [
    "class Pseudonym:\n",
    "    def __init__(self, dataframe):\n",
    "        \"\"\"원본정보(재현데이터)와 가명처리 구체 클래스를 인스턴스 변수로 선언하는(초기화) 생성자\"\"\"\n",
    "        self._dataframe = dataframe.copy()\n",
    "        self.equivalent_class = {}\n",
    "        self._pseudonymizers = []\n",
    "        self._pseudonymDictionary = {}\n",
    "        # self._pseudonymizer_module = pseudonymizer_module\n",
    "            # PseudonymizerModule의 초기화 모듈을 인스턴스 변수로 설정\n",
    "        \n",
    "    def __str__(self):\n",
    "        # __repr__\n",
    "        \"\"\"캡슐화된 데이터셋의 속성(컬럼)정보를 반환하는 메서드\"\"\"\n",
    "        return self._dataframe.info()\n",
    "    \n",
    "    def categorizeEquivalentClass(self, attributes: List[str]):\n",
    "        \"\"\"각 행(레코드)에 대한 개인식별가능정보 속성(컬럼)들 사이에 동질 집합을 확인하는 메서드\n",
    "        Pseudonym(dataframe).equivalent_class.keys()를 통해 동질집합 확인\"\"\"\n",
    "        groupby_data = self._dataframe.groupby(attributes)\n",
    "        for group, data in groupby_data:\n",
    "            if len(group) > 1:\n",
    "                # key = tuple(group)\n",
    "                key = group if len(group) > 1 else group[0]\n",
    "                # 딕셔너리에서 키 값으로 리스트(동적 타입)는 사용할 수 없으므로 튜플로 변환\n",
    "                # 단일 값인 경우 그룹을 튜플이 아닌 값으로 설정\n",
    "                self.equivalent_class[key] = data.index.tolist()\n",
    "                # 동질 집합에 해당하는 행(레코드)의 인덱스 번호를 키 값으로 조회되도록 저장\n",
    "                \n",
    "    def countEquivalentClass(self):\n",
    "        for group_key, index_value in self.equivalent_class.items():\n",
    "            print(group_key, len(index_value))\n",
    "            \n",
    "    def addPseudonymizer(self, pseudonymizer):\n",
    "        \"\"\"가명처리 추상 클래스에 대한 자식 클래스를 입력받는 pseudonymizer파라미터를 가지는 메서드\"\"\"\n",
    "        if isinstance(pseudonymizer, Pseudonymizer):\n",
    "            self._pseudonymizers.append(pseudonymizer)\n",
    "        else:\n",
    "            print(\"입력받은 {} 기술은 가명처리 기법에 추가할 수 없습니다.\".format(pseudonymizer))\n",
    "    \n",
    "    def addDictionary(self, column, pseudonymizers):\n",
    "        \"\"\"가명처리를 수행할 데이터 컬럼명과 해당 열에 적용할 여러 가명처리 기법 리스트를 입력받아 다양한 비식별 조치를 수행할 수 있도록 지정하는 메서드\"\"\"\n",
    "        self._pseudonymDictionary[column] = pseudonymizers\n",
    "        \n",
    "    def pseudonymizeData(self):\n",
    "        \"\"\"가명처리 기법을 해당 컬럼에 적용하는 메서드(apply함수를 활용하여 데이터프레임 모든 행, 특정 열에 비식별조치를 취하는 접근방식) \"\"\"\n",
    "        for column, pseudonymizers in self._pseudonymDictionary.items():\n",
    "            for pseudonymizer in pseudonymizers:\n",
    "                if isinstance(pseudonymizer, CategorizationOfColumn) or isinstance(pseudonymizer, TopandBottomCoding): \n",
    "                    self._dataframe[column] = pseudonymizer.pseudonymizeData(self._dataframe[column])\n",
    "                elif isinstance(pseudonymizer, MicroAggregation):\n",
    "                    self._dataframe[column] = pseudonymizer.pseudonymizeData(self._dataframe, column, self.equivalent_class)\n",
    "                else:\n",
    "                    self._dataframe[column] = self._dataframe[column].apply(pseudonymizer.pseudonymizeData)\n",
    "\n",
    "    def getPseudonymizedDataframe(self):\n",
    "        \"\"\"가명처리 데이터 반환\"\"\"\n",
    "        return self._dataframe"
   ]
  },
  {
   "cell_type": "code",
   "execution_count": 40,
   "metadata": {},
   "outputs": [],
   "source": [
    "from pseudonymizer.pseudonymizer import Pseudonymizer\n",
    "\n",
    "class TopandBottomCoding(Pseudonymizer):\n",
    "    \"\"\"적은 수의 분포를 가진 양 끝단의 정보를 범주화 등의 기법을 적용하여 식별성을 낮추는 가명처리기법 구체클래스\"\"\"\n",
    "    def __init__(self, outlier_type, bounded_value):\n",
    "        self.outlier_type = outlier_type\n",
    "        self.bounded_value = bounded_value\n",
    "    \n",
    "    def pseudonymizeData(self, dataseries):\n",
    "        if self.outlier_type == \"IQR\":\n",
    "            return self.pseudonymizeOutlierIQR(dataseries)\n",
    "        elif self.outlier_type == \"Pct\":\n",
    "            return self.pseudonymizeOutlierPct(dataseries)\n",
    "        else: \n",
    "            raise ValueError(f\"{self.outlier_type}은 유효한 상하단코딩 적용 유형이 아닙니다.\")\n",
    "    \n",
    "    def pseudonymizeOutlierIQR(self, dataseries):\n",
    "        \"\"\"\n",
    "        상자도표(boxplot)을 이용한 Q3 + 1.5IQR(상위 경계) 이상이거나 Q1 - 1.5IQR(하위 경계) 이하인 관측값\n",
    "        다만, 다변량 설정이나 고차원 데이터에는 유용성이 떨어진다는 한계\n",
    "        \"\"\"\n",
    "        Q1, Q2, Q3 = self.calculateQuartiles(dataseries)\n",
    "        IQR = Q3 - Q1\n",
    "        lower_bound = Q1 - 1.5*IQR\n",
    "        upper_bound = Q3 + 1.5*IQR\n",
    "        \n",
    "        datatopcoding = dataseries.apply(\n",
    "          lambda x: x if x <= upper_bound\n",
    "          else upper_bound)\n",
    "        databottomcoding = datatopcoding.apply(\n",
    "          lambda x: x if x >= lower_bound\n",
    "          else lower_bound)\n",
    "        return databottomcoding\n",
    "\n",
    "    def pseudonymizeOutlierPct(self, dataseries):\n",
    "        \"\"\"\n",
    "        백분율을 기준으로 상하단 경계값을 설정\n",
    "        \"\"\"\n",
    "        # 데이터 오름차순 퀵정렬\n",
    "        datasorted = self.quickSorting(dataseries)\n",
    "        # 백분율을 기준으로 상하단 경계값의 인덱스 추출\n",
    "        n = len(datasorted)\n",
    "        if self.bounded_value < 0.5:\n",
    "            lower_bound = self.bounded_value\n",
    "            lower_index = int(n*lower_bound/2)\n",
    "            upper_index = int(n*(1-lower_bound)/2)\n",
    "        else:\n",
    "            upper_bound = self.bounded_value\n",
    "            upper_index = int(n*upper_bound/2)\n",
    "            lower_index = int(n*(1-upper_bound)/2)\n",
    "        # 인덱스 번호를 통해 상하단 코딩 경계값 탐색\n",
    "        lower_value = datasorted[lower_index]\n",
    "        upper_value = datasorted[upper_index]\n",
    "        datareturn = dataseries.apply(\n",
    "            lambda x: x if lower_value <= x <= upper_value \n",
    "            else lower_value if x < lower_value \n",
    "            else upper_value)\n",
    "        return datareturn\n",
    "\n",
    "    def calculateMedian(self, dataseries):\n",
    "        \"\"\"중간값(백분위50%) 계산하는 메서드\n",
    "        정적 메서드를 선언함으로써\n",
    "        클래스의 네임스페이스 내 속하는 유틸리티 함수를 제공하며 해당 클래스의 인스턴스를 생성하지 않고(의존성 없이) 필요한 기능 수행\"\"\"\n",
    "        data = dataseries.to_list()\n",
    "        n = len(data)\n",
    "        # 전체 길이가 홀수일 때(2로 나눈 나머지가 0일 때, 2로 나눈 몫의 위치에 해당하는 중간값)\n",
    "        if n % 2 != 0:\n",
    "            return data[n//2]\n",
    "        # 전체 길이가 짝수일 때\n",
    "        else:\n",
    "            return (data[n//2-1] + data[n//2])/2\n",
    "        \n",
    "    def quickSorting(self, dataseries):\n",
    "        \"\"\"퀵 정렬 알고리즘 메서드\n",
    "        그 다음 작은 값과 큰 값을 담고 있는 배열을 대상으로 다시 퀵정렬 재귀호출\"\"\"\n",
    "        # 배열의 길이에 따라 정렬 여부 결정\n",
    "        print(type(dataseries))\n",
    "        data = dataseries.to_list()\n",
    "        if len(data) <= 1:\n",
    "            return data\n",
    "        # 중간 위치의 값을 피봇으로 설정(임의의 값으로 설정할 수 있지만 상용코드임을 고려하여 결정)\n",
    "        else:\n",
    "            pivot = data[len(data) // 2]\n",
    "            # 피봇으로 나누어지는 작은 값 배열과 큰 값 배열\n",
    "            lower_data, upper_data = [], []\n",
    "            # 동일한 값일 경우도 고려한 배열\n",
    "            equal_data = []\n",
    "\n",
    "            for num in data:\n",
    "                # 배열 내 값이 피봇보다 작을 때\n",
    "                if num < pivot:\n",
    "                    lower_data.append(num)\n",
    "                # 배열 내 값이 피봇보다 클 때\n",
    "                elif num > pivot:\n",
    "                    upper_data.append(num)\n",
    "                else:\n",
    "                    equal_data.append(num)\n",
    "            return self.quickSorting(lower_data) + equal_data + self.quickSorting(upper_data)\n",
    "            \n",
    "    def calculateQuartiles(self, dataseries):\n",
    "        \"\"\"백분위25%(Q1)과 백분위75%(Q3)를 중간값을 이용하여 구하는 메서드\"\"\"\n",
    "        data = dataseries.to_list()\n",
    "        # 빠른 quick정렬 알고리즘(heap, merge으로도 대체 가능)\n",
    "        datasorted = self.quickSorting(data)\n",
    "        \n",
    "        # 백분위 25%(가장 작은 수부터 중간값까지 수의 중간값), 백분위 75%(중간값부터 가장 큰 수까지 수의 중간값)\n",
    "        Quartile2 = self.calculateMedian(datasorted)\n",
    "        Quartile1 = self.calculateMedian(datasorted[:len(datasorted)//2])\n",
    "        Quartile3 = self.calculateMedian(datasorted[len(datasorted)//2:])\n",
    "        return Quartile1, Quartile2, Quartile3"
   ]
  },
  {
   "cell_type": "code",
   "execution_count": 25,
   "metadata": {},
   "outputs": [],
   "source": [
    "num_cate = CategorizationOfNumeric(numeric_type=\"user_definition\", \n",
    "                                   category_mapping={100: (0, 200), 500: (200, 800), 900: (800, 1000)})"
   ]
  },
  {
   "cell_type": "code",
   "execution_count": 26,
   "metadata": {},
   "outputs": [],
   "source": [
    "col_cate = CategorizationOfColumn(numeric_type=\"bin\", grouping_standard=[\"A\", \"B\", \"C\"],\n",
    "                                  right=True, ascending=False)"
   ]
  },
  {
   "cell_type": "code",
   "execution_count": 41,
   "metadata": {},
   "outputs": [],
   "source": [
    "credit_loan_cate = TopandBottomCoding(outlier_type=\"IQR\", bounded_value=0.1)"
   ]
  },
  {
   "cell_type": "code",
   "execution_count": 42,
   "metadata": {},
   "outputs": [],
   "source": [
    "pseudonymizer = Pseudonym(dataframe=DATA_FINANCE_TABLE)"
   ]
  },
  {
   "cell_type": "code",
   "execution_count": 43,
   "metadata": {},
   "outputs": [],
   "source": [
    "pseudonymizer.addDictionary(column=\"CREDIT_SCORE\", pseudonymizers=[num_cate])\n",
    "pseudonymizer.addDictionary(column=\"AMT_CREDITCARD_PAYMENT\", pseudonymizers=[credit_loan_cate])\n",
    "pseudonymizer.addDictionary(column=\"AMT_CREDITLOAN\", pseudonymizers=[credit_loan_cate])"
   ]
  },
  {
   "cell_type": "code",
   "execution_count": 44,
   "metadata": {},
   "outputs": [],
   "source": [
    "pseudonymizer.categorizeEquivalentClass(attributes=[\"TF_LOAN\", \"TF_PENSION\"])"
   ]
  },
  {
   "cell_type": "code",
   "execution_count": 45,
   "metadata": {},
   "outputs": [
    {
     "name": "stdout",
     "output_type": "stream",
     "text": [
      "('N', 'N') 79514\n",
      "('N', 'Y') 6020\n",
      "('Y', 'N') 8788\n",
      "('Y', 'Y') 678\n"
     ]
    }
   ],
   "source": [
    "pseudonymizer.countEquivalentClass()"
   ]
  },
  {
   "cell_type": "code",
   "execution_count": 46,
   "metadata": {},
   "outputs": [
    {
     "name": "stdout",
     "output_type": "stream",
     "text": [
      "<class 'list'>\n"
     ]
    },
    {
     "ename": "AttributeError",
     "evalue": "'list' object has no attribute 'to_list'",
     "output_type": "error",
     "traceback": [
      "\u001b[0;31m---------------------------------------------------------------------------\u001b[0m",
      "\u001b[0;31mAttributeError\u001b[0m                            Traceback (most recent call last)",
      "Cell \u001b[0;32mIn[46], line 1\u001b[0m\n\u001b[0;32m----> 1\u001b[0m pseudonymizer\u001b[38;5;241m.\u001b[39mpseudonymizeData()\n",
      "Cell \u001b[0;32mIn[23], line 49\u001b[0m, in \u001b[0;36mPseudonym.pseudonymizeData\u001b[0;34m(self)\u001b[0m\n\u001b[1;32m     47\u001b[0m \u001b[38;5;28;01mfor\u001b[39;00m pseudonymizer \u001b[38;5;129;01min\u001b[39;00m pseudonymizers:\n\u001b[1;32m     48\u001b[0m     \u001b[38;5;28;01mif\u001b[39;00m \u001b[38;5;28misinstance\u001b[39m(pseudonymizer, CategorizationOfColumn) \u001b[38;5;129;01mor\u001b[39;00m \u001b[38;5;28misinstance\u001b[39m(pseudonymizer, TopandBottomCoding): \n\u001b[0;32m---> 49\u001b[0m         \u001b[38;5;28mself\u001b[39m\u001b[38;5;241m.\u001b[39m_dataframe[column] \u001b[38;5;241m=\u001b[39m pseudonymizer\u001b[38;5;241m.\u001b[39mpseudonymizeData(\u001b[38;5;28mself\u001b[39m\u001b[38;5;241m.\u001b[39m_dataframe[column])\n\u001b[1;32m     50\u001b[0m     \u001b[38;5;28;01melif\u001b[39;00m \u001b[38;5;28misinstance\u001b[39m(pseudonymizer, MicroAggregation):\n\u001b[1;32m     51\u001b[0m         \u001b[38;5;28mself\u001b[39m\u001b[38;5;241m.\u001b[39m_dataframe[column] \u001b[38;5;241m=\u001b[39m pseudonymizer\u001b[38;5;241m.\u001b[39mpseudonymizeData(\u001b[38;5;28mself\u001b[39m\u001b[38;5;241m.\u001b[39m_dataframe, column, \u001b[38;5;28mself\u001b[39m\u001b[38;5;241m.\u001b[39mequivalent_class)\n",
      "Cell \u001b[0;32mIn[40], line 11\u001b[0m, in \u001b[0;36mTopandBottomCoding.pseudonymizeData\u001b[0;34m(self, dataseries)\u001b[0m\n\u001b[1;32m      9\u001b[0m \u001b[38;5;28;01mdef\u001b[39;00m \u001b[38;5;21mpseudonymizeData\u001b[39m(\u001b[38;5;28mself\u001b[39m, dataseries):\n\u001b[1;32m     10\u001b[0m     \u001b[38;5;28;01mif\u001b[39;00m \u001b[38;5;28mself\u001b[39m\u001b[38;5;241m.\u001b[39moutlier_type \u001b[38;5;241m==\u001b[39m \u001b[38;5;124m\"\u001b[39m\u001b[38;5;124mIQR\u001b[39m\u001b[38;5;124m\"\u001b[39m:\n\u001b[0;32m---> 11\u001b[0m         \u001b[38;5;28;01mreturn\u001b[39;00m \u001b[38;5;28mself\u001b[39m\u001b[38;5;241m.\u001b[39mpseudonymizeOutlierIQR(dataseries)\n\u001b[1;32m     12\u001b[0m     \u001b[38;5;28;01melif\u001b[39;00m \u001b[38;5;28mself\u001b[39m\u001b[38;5;241m.\u001b[39moutlier_type \u001b[38;5;241m==\u001b[39m \u001b[38;5;124m\"\u001b[39m\u001b[38;5;124mPct\u001b[39m\u001b[38;5;124m\"\u001b[39m:\n\u001b[1;32m     13\u001b[0m         \u001b[38;5;28;01mreturn\u001b[39;00m \u001b[38;5;28mself\u001b[39m\u001b[38;5;241m.\u001b[39mpseudonymizeOutlierPct(dataseries)\n",
      "Cell \u001b[0;32mIn[40], line 22\u001b[0m, in \u001b[0;36mTopandBottomCoding.pseudonymizeOutlierIQR\u001b[0;34m(self, dataseries)\u001b[0m\n\u001b[1;32m     17\u001b[0m \u001b[38;5;28;01mdef\u001b[39;00m \u001b[38;5;21mpseudonymizeOutlierIQR\u001b[39m(\u001b[38;5;28mself\u001b[39m, dataseries):\n\u001b[1;32m     18\u001b[0m \u001b[38;5;250m    \u001b[39m\u001b[38;5;124;03m\"\"\"\u001b[39;00m\n\u001b[1;32m     19\u001b[0m \u001b[38;5;124;03m    상자도표(boxplot)을 이용한 Q3 + 1.5IQR(상위 경계) 이상이거나 Q1 - 1.5IQR(하위 경계) 이하인 관측값\u001b[39;00m\n\u001b[1;32m     20\u001b[0m \u001b[38;5;124;03m    다만, 다변량 설정이나 고차원 데이터에는 유용성이 떨어진다는 한계\u001b[39;00m\n\u001b[1;32m     21\u001b[0m \u001b[38;5;124;03m    \"\"\"\u001b[39;00m\n\u001b[0;32m---> 22\u001b[0m     Q1, Q2, Q3 \u001b[38;5;241m=\u001b[39m \u001b[38;5;28mself\u001b[39m\u001b[38;5;241m.\u001b[39mcalculateQuartiles(dataseries)\n\u001b[1;32m     23\u001b[0m     IQR \u001b[38;5;241m=\u001b[39m Q3 \u001b[38;5;241m-\u001b[39m Q1\n\u001b[1;32m     24\u001b[0m     lower_bound \u001b[38;5;241m=\u001b[39m Q1 \u001b[38;5;241m-\u001b[39m \u001b[38;5;241m1.5\u001b[39m\u001b[38;5;241m*\u001b[39mIQR\n",
      "Cell \u001b[0;32mIn[40], line 104\u001b[0m, in \u001b[0;36mTopandBottomCoding.calculateQuartiles\u001b[0;34m(self, dataseries)\u001b[0m\n\u001b[1;32m    102\u001b[0m data \u001b[38;5;241m=\u001b[39m dataseries\u001b[38;5;241m.\u001b[39mto_list()\n\u001b[1;32m    103\u001b[0m \u001b[38;5;66;03m# 빠른 quick정렬 알고리즘(heap, merge으로도 대체 가능)\u001b[39;00m\n\u001b[0;32m--> 104\u001b[0m datasorted \u001b[38;5;241m=\u001b[39m \u001b[38;5;28mself\u001b[39m\u001b[38;5;241m.\u001b[39mquickSorting(data)\n\u001b[1;32m    106\u001b[0m \u001b[38;5;66;03m# 백분위 25%(가장 작은 수부터 중간값까지 수의 중간값), 백분위 75%(중간값부터 가장 큰 수까지 수의 중간값)\u001b[39;00m\n\u001b[1;32m    107\u001b[0m Quartile2 \u001b[38;5;241m=\u001b[39m \u001b[38;5;28mself\u001b[39m\u001b[38;5;241m.\u001b[39mcalculateMedian(datasorted)\n",
      "Cell \u001b[0;32mIn[40], line 78\u001b[0m, in \u001b[0;36mTopandBottomCoding.quickSorting\u001b[0;34m(self, dataseries)\u001b[0m\n\u001b[1;32m     76\u001b[0m \u001b[38;5;66;03m# 배열의 길이에 따라 정렬 여부 결정\u001b[39;00m\n\u001b[1;32m     77\u001b[0m \u001b[38;5;28mprint\u001b[39m(\u001b[38;5;28mtype\u001b[39m(dataseries))\n\u001b[0;32m---> 78\u001b[0m data \u001b[38;5;241m=\u001b[39m dataseries\u001b[38;5;241m.\u001b[39mto_list()\n\u001b[1;32m     79\u001b[0m \u001b[38;5;28;01mif\u001b[39;00m \u001b[38;5;28mlen\u001b[39m(data) \u001b[38;5;241m<\u001b[39m\u001b[38;5;241m=\u001b[39m \u001b[38;5;241m1\u001b[39m:\n\u001b[1;32m     80\u001b[0m     \u001b[38;5;28;01mreturn\u001b[39;00m data\n",
      "\u001b[0;31mAttributeError\u001b[0m: 'list' object has no attribute 'to_list'"
     ]
    }
   ],
   "source": [
    "pseudonymizer.pseudonymizeData()"
   ]
  },
  {
   "cell_type": "markdown",
   "metadata": {},
   "source": [
    "### DATA_RETAIL 가명처리\n",
    "- AMT_PURCHASES_BOOKS, AMT_PURCHASES_CULTURE, AMT_PURCHASES_EDU\n",
    "- 차분프라이버시 적용 (라플라스 or 가우시안 하나씩 해보기)\n",
    "- AMT_PURCHASES_BOOKS -> 가우시안, 나머지 라플라스\n",
    "- 동질집합: [\"AGE\", \"GENDER\"]\n",
    "- 개인정보 마스킹: NAME, PHONE_NUMBER, ZIP_CODE, SHIPPING_ADDRESS\n",
    "- JOIN_DATE (날짜 컬럼) -> CategorizationOfNumeric(numeric_type=\"age\", grouping_standard=\"3bin\")"
   ]
  },
  {
   "cell_type": "code",
   "execution_count": 72,
   "metadata": {},
   "outputs": [
    {
     "name": "stdout",
     "output_type": "stream",
     "text": [
      "<class 'pandas.core.frame.DataFrame'>\n",
      "RangeIndex: 85000 entries, 0 to 84999\n",
      "Data columns (total 16 columns):\n",
      " #   Column                     Non-Null Count  Dtype \n",
      "---  ------                     --------------  ----- \n",
      " 0   NUM_SERIAL                 85000 non-null  int64 \n",
      " 1   NAME                       85000 non-null  object\n",
      " 2   GENDER                     85000 non-null  object\n",
      " 3   AGE                        85000 non-null  int64 \n",
      " 4   JOIN_DATE                  85000 non-null  object\n",
      " 5   PHONE_NUMBER               85000 non-null  object\n",
      " 6   ZIP_CODE                   85000 non-null  int64 \n",
      " 7   SHIPPING_ADDRESS           85000 non-null  object\n",
      " 8   NUM_PURCHASES_BOOKS        85000 non-null  int64 \n",
      " 9   AMT_PURCHASES_BOOKS        85000 non-null  int64 \n",
      " 10  NUM_PURCHASES_CULTURE      85000 non-null  int64 \n",
      " 11  AMT_PURCHASES_CULTURE      85000 non-null  int64 \n",
      " 12  NUM_PURCHASES_EDU          85000 non-null  int64 \n",
      " 13  AMT_PURCHASES_EDU          85000 non-null  int64 \n",
      " 14  AMT_USAGE_MEMBERSHIP       85000 non-null  int64 \n",
      " 15  AMT_USAGE_GIFTCERTIFICATE  85000 non-null  int64 \n",
      "dtypes: int64(11), object(5)\n",
      "memory usage: 10.4+ MB\n"
     ]
    }
   ],
   "source": [
    "DATA_RETAIL_TABLE.info()"
   ]
  },
  {
   "cell_type": "code",
   "execution_count": 71,
   "metadata": {},
   "outputs": [
    {
     "data": {
      "image/png": "[encoded data removed]",
      "text/plain": [
       "<Figure size 640x480 with 1 Axes>"
      ]
     },
     "metadata": {},
     "output_type": "display_data"
    }
   ],
   "source": [
    "plt.hist(DATA_RETAIL_TABLE[\"AMT_PURCHASES_EDU\"], color = \"blue\", alpha = 0.9)\n",
    "plt.hist(DATA_RETAIL_TABLE[\"AMT_PURCHASES_CULTURE\"], color = \"green\", alpha = 0.5)\n",
    "plt.hist(DATA_RETAIL_TABLE[\"AMT_PURCHASES_BOOKS\"], color = \"orange\", alpha = 0.5)\n",
    "plt.show()"
   ]
  },
  {
   "cell_type": "code",
   "execution_count": null,
   "metadata": {},
   "outputs": [],
   "source": []
  },
  {
   "cell_type": "markdown",
   "metadata": {},
   "source": [
    "## 가명결합"
   ]
  },
  {
   "cell_type": "markdown",
   "metadata": {},
   "source": []
  }
 ],
 "metadata": {
  "kernelspec": {
   "display_name": "base",
   "language": "python",
   "name": "python3"
  },
  "language_info": {
   "codemirror_mode": {
    "name": "ipython",
    "version": 3
   },
   "file_extension": ".py",
   "mimetype": "text/x-python",
   "name": "python",
   "nbconvert_exporter": "python",
   "pygments_lexer": "ipython3",
   "version": "3.11.4"
  }
 },
 "nbformat": 4,
 "nbformat_minor": 2
}
