{
 "cells": [
  {
   "cell_type": "code",
   "execution_count": 35,
   "metadata": {},
   "outputs": [],
   "source": [
    "# import pymysql\n",
    "# from sqlalchemy import create_engine\n",
    "# import sys\n",
    "# from abc import ABC, abstractmethod\n",
    "# from typing import *\n",
    "\n",
    "import re\n",
    "\n",
    "from prettytable import PrettyTable\n",
    "import pandas as pd\n",
    "pd.options.display.float_format = '{:.30f}'.format\n",
    "import pprint\n",
    "\n",
    "import numpy as np\n",
    "import matplotlib.pyplot as plt\n",
    "import seaborn as sns"
   ]
  },
  {
   "cell_type": "markdown",
   "metadata": {},
   "source": [
    "#### 0. 모듈의 상위 패키지를 파이썬 경로로 설정"
   ]
  },
  {
   "cell_type": "code",
   "execution_count": 2,
   "metadata": {},
   "outputs": [],
   "source": [
    "import sys"
   ]
  },
  {
   "cell_type": "code",
   "execution_count": 3,
   "metadata": {},
   "outputs": [
    {
     "data": {
      "text/plain": [
       "['/Users/minjoo/codeStudy/psudonymizerTeam/pseudonymizer/tests',\n",
       " '/opt/homebrew/anaconda3/lib/python311.zip',\n",
       " '/opt/homebrew/anaconda3/lib/python3.11',\n",
       " '/opt/homebrew/anaconda3/lib/python3.11/lib-dynload',\n",
       " '',\n",
       " '/opt/homebrew/anaconda3/lib/python3.11/site-packages',\n",
       " '/opt/homebrew/anaconda3/lib/python3.11/site-packages/aeosa']"
      ]
     },
     "execution_count": 3,
     "metadata": {},
     "output_type": "execute_result"
    }
   ],
   "source": [
    "sys.path"
   ]
  },
  {
   "cell_type": "code",
   "execution_count": 4,
   "metadata": {},
   "outputs": [],
   "source": [
    "# sys.path.append(\"C:\\Pseudonymizer\\pseudonymizer\")\n",
    "sys.path.append(\"/Users/minjoo/codeStudy/psudonymizerTeam/pseudonymizer\")\n",
    "# /path/to/your/module"
   ]
  },
  {
   "cell_type": "markdown",
   "metadata": {},
   "source": [
    "#### 1. MySQL Server 내 데이터베이스 테이블을 Python 스크립트와 연동하여 데이터 로드"
   ]
  },
  {
   "cell_type": "code",
   "execution_count": 36,
   "metadata": {},
   "outputs": [],
   "source": [
    "from pseudonymizer.encryptionPseudonyms.pyMySQLQuery import PyMySQLQuery, ConnectMySQLserver"
   ]
  },
  {
   "cell_type": "code",
   "execution_count": 37,
   "metadata": {},
   "outputs": [],
   "source": [
    "# TEST CODE\n",
    "queryObject = PyMySQLQuery(pw = \"1234\")"
   ]
  },
  {
   "cell_type": "code",
   "execution_count": 38,
   "metadata": {},
   "outputs": [],
   "source": [
    "queryObject.connectDatabase(\n",
    "    serverIP = \"localhost\", \n",
    "    port_num = 3306, \n",
    "    user_name = \"root\", \n",
    "    database_name = \"FINANCIALCONSUMER\", \n",
    "    kr_encoder = \"utf8\")"
   ]
  },
  {
   "cell_type": "code",
   "execution_count": 39,
   "metadata": {},
   "outputs": [],
   "source": [
    "SQL = input(\"SQL 쿼리문 입력변수 = \")\n",
    "    # SELECT * FROM DATA_FINANCE"
   ]
  },
  {
   "cell_type": "code",
   "execution_count": 40,
   "metadata": {},
   "outputs": [],
   "source": [
    "queryObject.dataQueryLanguage(sql = SQL)"
   ]
  },
  {
   "cell_type": "code",
   "execution_count": null,
   "metadata": {},
   "outputs": [],
   "source": [
    "# DATA_FINANCE_TUPLE = queryObject.executeQuery()\n",
    "    # AttributeError: 'NoneType' object has no attribute 'execute'"
   ]
  },
  {
   "cell_type": "code",
   "execution_count": 41,
   "metadata": {},
   "outputs": [],
   "source": [
    "DATA_FINANCE_TABLE = queryObject.executeQueryAsDataFrame()"
   ]
  },
  {
   "cell_type": "code",
   "execution_count": 11,
   "metadata": {},
   "outputs": [
    {
     "name": "stdout",
     "output_type": "stream",
     "text": [
      "<class 'pandas.core.frame.DataFrame'>\n",
      "RangeIndex: 95000 entries, 0 to 94999\n",
      "Data columns (total 21 columns):\n",
      " #   Column                      Non-Null Count  Dtype \n",
      "---  ------                      --------------  ----- \n",
      " 0   NUM_SERIAL                  95000 non-null  int64 \n",
      " 1   NAME                        95000 non-null  object\n",
      " 2   GENDER                      95000 non-null  object\n",
      " 3   AGE                         95000 non-null  int64 \n",
      " 4   PHONE_NUMBER                95000 non-null  object\n",
      " 5   ZIP_CODE                    95000 non-null  int64 \n",
      " 6   HOME_ADDRESS                95000 non-null  object\n",
      " 7   HOME_TYPE                   95000 non-null  object\n",
      " 8   INCOME_BRACKET              95000 non-null  int64 \n",
      " 9   CREDIT_SCORE                95000 non-null  int64 \n",
      " 10  REPAYMENT_RISK_INDEX        95000 non-null  int64 \n",
      " 11  AMT_CREDITCARD_PAYMENT      95000 non-null  int64 \n",
      " 12  AMT_CASHADVANCE_PAYMENT     95000 non-null  int64 \n",
      " 13  NUM_CREDITCARD_ISSUANCES    95000 non-null  int64 \n",
      " 14  NUM_CREDITCARD_CANCELED     95000 non-null  int64 \n",
      " 15  TF_LOAN                     95000 non-null  object\n",
      " 16  AMT_CREDITLOAN              95000 non-null  int64 \n",
      " 17  AMT_CREDITLOAN_OUTSTANDING  95000 non-null  int64 \n",
      " 18  TF_PENSION                  95000 non-null  object\n",
      " 19  AMT_PENSION                 95000 non-null  int64 \n",
      " 20  SERIALNUM                   95000 non-null  object\n",
      "dtypes: int64(13), object(8)\n",
      "memory usage: 15.2+ MB\n"
     ]
    },
    {
     "data": {
      "text/html": [
       "<div>\n",
       "<style scoped>\n",
       "    .dataframe tbody tr th:only-of-type {\n",
       "        vertical-align: middle;\n",
       "    }\n",
       "\n",
       "    .dataframe tbody tr th {\n",
       "        vertical-align: top;\n",
       "    }\n",
       "\n",
       "    .dataframe thead th {\n",
       "        text-align: right;\n",
       "    }\n",
       "</style>\n",
       "<table border=\"1\" class=\"dataframe\">\n",
       "  <thead>\n",
       "    <tr style=\"text-align: right;\">\n",
       "      <th></th>\n",
       "      <th>NUM_SERIAL</th>\n",
       "      <th>NAME</th>\n",
       "      <th>GENDER</th>\n",
       "      <th>AGE</th>\n",
       "      <th>PHONE_NUMBER</th>\n",
       "      <th>ZIP_CODE</th>\n",
       "      <th>HOME_ADDRESS</th>\n",
       "      <th>HOME_TYPE</th>\n",
       "      <th>INCOME_BRACKET</th>\n",
       "      <th>CREDIT_SCORE</th>\n",
       "      <th>...</th>\n",
       "      <th>AMT_CREDITCARD_PAYMENT</th>\n",
       "      <th>AMT_CASHADVANCE_PAYMENT</th>\n",
       "      <th>NUM_CREDITCARD_ISSUANCES</th>\n",
       "      <th>NUM_CREDITCARD_CANCELED</th>\n",
       "      <th>TF_LOAN</th>\n",
       "      <th>AMT_CREDITLOAN</th>\n",
       "      <th>AMT_CREDITLOAN_OUTSTANDING</th>\n",
       "      <th>TF_PENSION</th>\n",
       "      <th>AMT_PENSION</th>\n",
       "      <th>SERIALNUM</th>\n",
       "    </tr>\n",
       "  </thead>\n",
       "  <tbody>\n",
       "    <tr>\n",
       "      <th>94997</th>\n",
       "      <td>94997</td>\n",
       "      <td>명시라</td>\n",
       "      <td>female</td>\n",
       "      <td>66</td>\n",
       "      <td>010-2536-2511</td>\n",
       "      <td>14614</td>\n",
       "      <td>경기도 부천시 장말로 292(심곡동)</td>\n",
       "      <td>연립주택</td>\n",
       "      <td>4</td>\n",
       "      <td>294</td>\n",
       "      <td>...</td>\n",
       "      <td>8488084</td>\n",
       "      <td>7377056</td>\n",
       "      <td>8</td>\n",
       "      <td>2</td>\n",
       "      <td>N</td>\n",
       "      <td>0</td>\n",
       "      <td>0</td>\n",
       "      <td>N</td>\n",
       "      <td>0</td>\n",
       "      <td>F94998</td>\n",
       "    </tr>\n",
       "    <tr>\n",
       "      <th>94998</th>\n",
       "      <td>94998</td>\n",
       "      <td>롤미라</td>\n",
       "      <td>female</td>\n",
       "      <td>73</td>\n",
       "      <td>010-5091-5053</td>\n",
       "      <td>32755</td>\n",
       "      <td>충청남도 금산군 부리면 물페기길 66</td>\n",
       "      <td>오피스텔</td>\n",
       "      <td>6</td>\n",
       "      <td>986</td>\n",
       "      <td>...</td>\n",
       "      <td>5109440</td>\n",
       "      <td>3625570</td>\n",
       "      <td>3</td>\n",
       "      <td>2</td>\n",
       "      <td>N</td>\n",
       "      <td>0</td>\n",
       "      <td>0</td>\n",
       "      <td>N</td>\n",
       "      <td>0</td>\n",
       "      <td>F94999</td>\n",
       "    </tr>\n",
       "    <tr>\n",
       "      <th>94999</th>\n",
       "      <td>94999</td>\n",
       "      <td>안전웅</td>\n",
       "      <td>male</td>\n",
       "      <td>46</td>\n",
       "      <td>010-9622-1090</td>\n",
       "      <td>10585</td>\n",
       "      <td>경기도 고양시 덕양구 안진6길 12(지축동)</td>\n",
       "      <td>오피스텔</td>\n",
       "      <td>7</td>\n",
       "      <td>44</td>\n",
       "      <td>...</td>\n",
       "      <td>874939</td>\n",
       "      <td>5785351</td>\n",
       "      <td>7</td>\n",
       "      <td>0</td>\n",
       "      <td>N</td>\n",
       "      <td>0</td>\n",
       "      <td>0</td>\n",
       "      <td>N</td>\n",
       "      <td>0</td>\n",
       "      <td>F95000</td>\n",
       "    </tr>\n",
       "  </tbody>\n",
       "</table>\n",
       "<p>3 rows × 21 columns</p>\n",
       "</div>"
      ],
      "text/plain": [
       "       NUM_SERIAL NAME  GENDER  AGE   PHONE_NUMBER  ZIP_CODE  \\\n",
       "94997       94997  명시라  female   66  010-2536-2511     14614   \n",
       "94998       94998  롤미라  female   73  010-5091-5053     32755   \n",
       "94999       94999  안전웅    male   46  010-9622-1090     10585   \n",
       "\n",
       "                   HOME_ADDRESS HOME_TYPE  INCOME_BRACKET  CREDIT_SCORE  ...  \\\n",
       "94997      경기도 부천시 장말로 292(심곡동)      연립주택               4           294  ...   \n",
       "94998      충청남도 금산군 부리면 물페기길 66      오피스텔               6           986  ...   \n",
       "94999  경기도 고양시 덕양구 안진6길 12(지축동)      오피스텔               7            44  ...   \n",
       "\n",
       "       AMT_CREDITCARD_PAYMENT  AMT_CASHADVANCE_PAYMENT  \\\n",
       "94997                 8488084                  7377056   \n",
       "94998                 5109440                  3625570   \n",
       "94999                  874939                  5785351   \n",
       "\n",
       "       NUM_CREDITCARD_ISSUANCES  NUM_CREDITCARD_CANCELED  TF_LOAN  \\\n",
       "94997                         8                        2        N   \n",
       "94998                         3                        2        N   \n",
       "94999                         7                        0        N   \n",
       "\n",
       "      AMT_CREDITLOAN  AMT_CREDITLOAN_OUTSTANDING  TF_PENSION AMT_PENSION  \\\n",
       "94997              0                           0           N           0   \n",
       "94998              0                           0           N           0   \n",
       "94999              0                           0           N           0   \n",
       "\n",
       "       SERIALNUM  \n",
       "94997     F94998  \n",
       "94998     F94999  \n",
       "94999     F95000  \n",
       "\n",
       "[3 rows x 21 columns]"
      ]
     },
     "execution_count": 11,
     "metadata": {},
     "output_type": "execute_result"
    }
   ],
   "source": [
    "type(DATA_FINANCE_TABLE)\n",
    "DATA_FINANCE_TABLE.info()\n",
    "DATA_FINANCE_TABLE.tail(3)"
   ]
  },
  {
   "cell_type": "markdown",
   "metadata": {},
   "source": [
    "#### 2. 가명처리 절차 : 개인정보가 포함된 데이터를 비식별조치를 통해 가명정보로 변환"
   ]
  },
  {
   "cell_type": "code",
   "execution_count": 42,
   "metadata": {},
   "outputs": [],
   "source": [
    "from pseudonymizer.pseudonymizer import Pseudonymizer"
   ]
  },
  {
   "cell_type": "code",
   "execution_count": 43,
   "metadata": {},
   "outputs": [],
   "source": [
    "from pseudonymizer.pseudonym import Pseudonym, PseudonymizerModule\n",
    "    # ImportError: cannot import name 'Pseudonymizer' from 'pseudonymizer' (unknown location)"
   ]
  },
  {
   "cell_type": "code",
   "execution_count": 44,
   "metadata": {},
   "outputs": [
    {
     "name": "stdout",
     "output_type": "stream",
     "text": [
      "Help on class Pseudonym in module pseudonymizer.pseudonym:\n",
      "\n",
      "class Pseudonym(builtins.object)\n",
      " |  Pseudonym(dataframe, pseudonymizer_module)\n",
      " |  \n",
      " |  Methods defined here:\n",
      " |  \n",
      " |  __init__(self, dataframe, pseudonymizer_module)\n",
      " |      원본정보(재현데이터)와 가명처리 구체 클래스를 인스턴스 변수로 선언하는(초기화) 생성자\n",
      " |  \n",
      " |  __str__(self)\n",
      " |      캡슐화된 데이터셋의 속성(컬럼)정보를 반환하는 메서드\n",
      " |  \n",
      " |  addDictionary(self, column, pseudonymizers)\n",
      " |      가명처리를 수행할 데이터 컬럼명과 해당 열에 적용할 여러 가명처리 기법 리스트를 입력받아 다양한 비식별 조치를 수행할 수 있도록 지정하는 메서드\n",
      " |  \n",
      " |  addPseudonymizer(self, pseudonymizer)\n",
      " |      가명처리 추상 클래스에 대한 자식 클래스를 입력받는 pseudonymizer파라미터를 가지는 메서드\n",
      " |  \n",
      " |  categorizeEquivalentClass(self, attributes: List[str])\n",
      " |      각 행(레코드)에 대한 개인식별가능정보 속성(컬럼)들 사이에 동질 집합을 확인하는 메서드\n",
      " |      Pseudonym(dataframe).equivalent_class.keys()를 통해 동질집합 확인\n",
      " |  \n",
      " |  countEquivalentClass(self)\n",
      " |  \n",
      " |  getPseudonymizedDataframe(self)\n",
      " |      가명처리 데이터 반환\n",
      " |  \n",
      " |  pseudonymizeData(self)\n",
      " |      가명처리 기법을 해당 컬럼에 적용하는 메서드(apply함수를 활용하여 데이터프레임 모든 행, 특정 열에 비식별조치를 취하는 접근방식)\n",
      " |  \n",
      " |  ----------------------------------------------------------------------\n",
      " |  Data descriptors defined here:\n",
      " |  \n",
      " |  __dict__\n",
      " |      dictionary for instance variables (if defined)\n",
      " |  \n",
      " |  __weakref__\n",
      " |      list of weak references to the object (if defined)\n",
      "\n"
     ]
    }
   ],
   "source": [
    "help(Pseudonym)"
   ]
  },
  {
   "cell_type": "code",
   "execution_count": 45,
   "metadata": {},
   "outputs": [],
   "source": [
    "from pseudonymizer.pseudonymizers.maskingPseudonymizer import MaskingPseudonymizer\n",
    "from pseudonymizer.pseudonymizers.charcategorization import CategorizationOfCharacter\n",
    "from pseudonymizer.pseudonymizers.numcategorization import CategorizationOfNumeric\n",
    "from pseudonymizer.pseudonymizers.columncategorization import CategorizationOfColumn\n",
    "from pseudonymizer.pseudonymizers.microAggregation import MicroAggregation\n",
    "from pseudonymizer.pseudonymizers.randomRoundingPseudonymizer import RandomRoundingPseudonymizer\n",
    "from pseudonymizer.pseudonymizers.topandBottomCoding import TopandBottomCoding"
   ]
  },
  {
   "cell_type": "code",
   "execution_count": 46,
   "metadata": {},
   "outputs": [],
   "source": [
    "# 가명처리 기법 적용 객체 생성\n",
    "pseudonym_object = Pseudonym(\n",
    "    dataframe = DATA_FINANCE_TABLE,\n",
    "    pseudonymizer_module = None\n",
    ")"
   ]
  },
  {
   "cell_type": "code",
   "execution_count": 16,
   "metadata": {},
   "outputs": [],
   "source": [
    "# 원본 데이터의 컬럼 정보 출력(.info())\n",
    "# print(pseudonym_object)"
   ]
  },
  {
   "cell_type": "code",
   "execution_count": 47,
   "metadata": {},
   "outputs": [],
   "source": [
    "# 속성값 조합을 이용한 동질집합 생성\n",
    "pseudonym_object.categorizeEquivalentClass(\n",
    "    attributes = [\"NUM_CREDITCARD_ISSUANCES\", \"TF_LOAN\", \"TF_PENSION\"]\n",
    ")"
   ]
  },
  {
   "cell_type": "code",
   "execution_count": 48,
   "metadata": {},
   "outputs": [
    {
     "name": "stdout",
     "output_type": "stream",
     "text": [
      "(1, 'N', 'N') 7951\n",
      "(1, 'N', 'Y') 596\n",
      "(1, 'Y', 'N') 840\n",
      "(1, 'Y', 'Y') 83\n",
      "(2, 'N', 'N') 7988\n",
      "(2, 'N', 'Y') 580\n",
      "(2, 'Y', 'N') 883\n",
      "(2, 'Y', 'Y') 54\n",
      "(3, 'N', 'N') 8031\n",
      "(3, 'N', 'Y') 585\n",
      "(3, 'Y', 'N') 895\n",
      "(3, 'Y', 'Y') 69\n",
      "(4, 'N', 'N') 7960\n",
      "(4, 'N', 'Y') 627\n",
      "(4, 'Y', 'N') 902\n",
      "(4, 'Y', 'Y') 68\n",
      "(5, 'N', 'N') 7972\n",
      "(5, 'N', 'Y') 573\n",
      "(5, 'Y', 'N') 923\n",
      "(5, 'Y', 'Y') 82\n",
      "(6, 'N', 'N') 7857\n",
      "(6, 'N', 'Y') 618\n",
      "(6, 'Y', 'N') 868\n",
      "(6, 'Y', 'Y') 71\n",
      "(7, 'N', 'N') 7887\n",
      "(7, 'N', 'Y') 593\n",
      "(7, 'Y', 'N') 878\n",
      "(7, 'Y', 'Y') 77\n",
      "(8, 'N', 'N') 8002\n",
      "(8, 'N', 'Y') 611\n",
      "(8, 'Y', 'N') 803\n",
      "(8, 'Y', 'Y') 64\n",
      "(9, 'N', 'N') 7967\n",
      "(9, 'N', 'Y') 598\n",
      "(9, 'Y', 'N') 890\n",
      "(9, 'Y', 'Y') 50\n",
      "(10, 'N', 'N') 7899\n",
      "(10, 'N', 'Y') 639\n",
      "(10, 'Y', 'N') 906\n",
      "(10, 'Y', 'Y') 60\n"
     ]
    }
   ],
   "source": [
    "# 동질집합 반환\n",
    "pseudonym_object.countEquivalentClass()"
   ]
  },
  {
   "cell_type": "code",
   "execution_count": 49,
   "metadata": {},
   "outputs": [],
   "source": [
    "categorize_col = CategorizationOfColumn(numeric_type=\"bin\", grouping_standard=[\"A\", \"B\", \"C\"], right=True, ascending=False)"
   ]
  },
  {
   "cell_type": "code",
   "execution_count": 50,
   "metadata": {},
   "outputs": [],
   "source": [
    "micro_aggregation = MicroAggregation(calulate_type=\"average\", quasi_identifier=(1, 'N', 'N'))"
   ]
  },
  {
   "cell_type": "code",
   "execution_count": 51,
   "metadata": {},
   "outputs": [],
   "source": [
    "from pseudonymizer.pseudonymizers.charcategorization import CategorizationOfCharacter"
   ]
  },
  {
   "cell_type": "code",
   "execution_count": 52,
   "metadata": {},
   "outputs": [],
   "source": [
    "char_cate = CategorizationOfCharacter(category_type=\"user_definition\", category_mapping={\"F\": [\"female\"], \"M\": [\"male\"]})"
   ]
  },
  {
   "cell_type": "code",
   "execution_count": 140,
   "metadata": {},
   "outputs": [],
   "source": [
    "adad = \"sdsd\""
   ]
  },
  {
   "cell_type": "code",
   "execution_count": 141,
   "metadata": {},
   "outputs": [
    {
     "name": "stdout",
     "output_type": "stream",
     "text": [
      "입력받은 sdsd 기술은 가명처리 기법에 추가할 수 없습니다.\n"
     ]
    }
   ],
   "source": [
    "# 가명처리 기법 클래스 입력\n",
    "pseudonym_object.addPseudonymizer(\n",
    "    pseudonymizer = adad\n",
    ")"
   ]
  },
  {
   "cell_type": "code",
   "execution_count": 110,
   "metadata": {},
   "outputs": [],
   "source": [
    "# 적용 컬럼과 여러 가명처리 기법 정의\n",
    "pseudonym_object.addDictionary(\n",
    "    column = \"ZIP_CODE\",\n",
    "    pseudonymizers = [categorize_col]\n",
    ")"
   ]
  },
  {
   "cell_type": "code",
   "execution_count": 135,
   "metadata": {},
   "outputs": [],
   "source": [
    "pseudonym_object.addDictionary(\n",
    "    column = \"CREDIT_SCORE\",\n",
    "    pseudonymizers = [micro_aggregation]\n",
    ")"
   ]
  },
  {
   "cell_type": "code",
   "execution_count": 53,
   "metadata": {},
   "outputs": [],
   "source": [
    "pseudonym_object.addDictionary(\n",
    "    column=\"GENDER\",\n",
    "    pseudonymizers=[char_cate]\n",
    ")"
   ]
  },
  {
   "cell_type": "code",
   "execution_count": 144,
   "metadata": {},
   "outputs": [
    {
     "data": {
      "text/plain": [
       "[]"
      ]
     },
     "execution_count": 144,
     "metadata": {},
     "output_type": "execute_result"
    }
   ],
   "source": [
    "pseudonym_object._pseudonymizers"
   ]
  },
  {
   "cell_type": "code",
   "execution_count": 54,
   "metadata": {},
   "outputs": [
    {
     "data": {
      "text/plain": [
       "{'GENDER': [<pseudonymizer.pseudonymizers.charcategorization.CategorizationOfCharacter at 0x17ced0f10>]}"
      ]
     },
     "execution_count": 54,
     "metadata": {},
     "output_type": "execute_result"
    }
   ],
   "source": [
    "pseudonym_object._pseudonymDictionary"
   ]
  },
  {
   "cell_type": "code",
   "execution_count": 55,
   "metadata": {},
   "outputs": [],
   "source": [
    "# 가명처리 수행\n",
    "pseudonym_object.pseudonymizeData()"
   ]
  },
  {
   "cell_type": "code",
   "execution_count": 56,
   "metadata": {},
   "outputs": [],
   "source": [
    "# 가명정보 반환\n",
    "pseudonym_data = pseudonym_object.getPseudonymizedDataframe()"
   ]
  },
  {
   "cell_type": "code",
   "execution_count": 57,
   "metadata": {},
   "outputs": [
    {
     "data": {
      "text/html": [
       "<div>\n",
       "<style scoped>\n",
       "    .dataframe tbody tr th:only-of-type {\n",
       "        vertical-align: middle;\n",
       "    }\n",
       "\n",
       "    .dataframe tbody tr th {\n",
       "        vertical-align: top;\n",
       "    }\n",
       "\n",
       "    .dataframe thead th {\n",
       "        text-align: right;\n",
       "    }\n",
       "</style>\n",
       "<table border=\"1\" class=\"dataframe\">\n",
       "  <thead>\n",
       "    <tr style=\"text-align: right;\">\n",
       "      <th></th>\n",
       "      <th>NUM_SERIAL</th>\n",
       "      <th>NAME</th>\n",
       "      <th>GENDER</th>\n",
       "      <th>AGE</th>\n",
       "      <th>PHONE_NUMBER</th>\n",
       "      <th>ZIP_CODE</th>\n",
       "      <th>HOME_ADDRESS</th>\n",
       "      <th>HOME_TYPE</th>\n",
       "      <th>INCOME_BRACKET</th>\n",
       "      <th>CREDIT_SCORE</th>\n",
       "      <th>...</th>\n",
       "      <th>AMT_CREDITCARD_PAYMENT</th>\n",
       "      <th>AMT_CASHADVANCE_PAYMENT</th>\n",
       "      <th>NUM_CREDITCARD_ISSUANCES</th>\n",
       "      <th>NUM_CREDITCARD_CANCELED</th>\n",
       "      <th>TF_LOAN</th>\n",
       "      <th>AMT_CREDITLOAN</th>\n",
       "      <th>AMT_CREDITLOAN_OUTSTANDING</th>\n",
       "      <th>TF_PENSION</th>\n",
       "      <th>AMT_PENSION</th>\n",
       "      <th>SERIALNUM</th>\n",
       "    </tr>\n",
       "  </thead>\n",
       "  <tbody>\n",
       "    <tr>\n",
       "      <th>0</th>\n",
       "      <td>0</td>\n",
       "      <td>강현심</td>\n",
       "      <td>F</td>\n",
       "      <td>80</td>\n",
       "      <td>010-1826-4535</td>\n",
       "      <td>27218</td>\n",
       "      <td>충청북도 제천시 수산면 옥순봉로6길 61-32</td>\n",
       "      <td>판잣집, 비닐하우스</td>\n",
       "      <td>6</td>\n",
       "      <td>441</td>\n",
       "      <td>...</td>\n",
       "      <td>5357418</td>\n",
       "      <td>8583708</td>\n",
       "      <td>3</td>\n",
       "      <td>5</td>\n",
       "      <td>N</td>\n",
       "      <td>0</td>\n",
       "      <td>0</td>\n",
       "      <td>N</td>\n",
       "      <td>0</td>\n",
       "      <td>F1</td>\n",
       "    </tr>\n",
       "    <tr>\n",
       "      <th>1</th>\n",
       "      <td>1</td>\n",
       "      <td>서삼봉</td>\n",
       "      <td>F</td>\n",
       "      <td>30</td>\n",
       "      <td>010-1765-1467</td>\n",
       "      <td>12736</td>\n",
       "      <td>경기도 광주시 초월읍 도곡길 109-9</td>\n",
       "      <td>다세대주택</td>\n",
       "      <td>8</td>\n",
       "      <td>515</td>\n",
       "      <td>...</td>\n",
       "      <td>8870904</td>\n",
       "      <td>5328233</td>\n",
       "      <td>3</td>\n",
       "      <td>1</td>\n",
       "      <td>N</td>\n",
       "      <td>0</td>\n",
       "      <td>0</td>\n",
       "      <td>N</td>\n",
       "      <td>0</td>\n",
       "      <td>F2</td>\n",
       "    </tr>\n",
       "    <tr>\n",
       "      <th>2</th>\n",
       "      <td>2</td>\n",
       "      <td>팽상아</td>\n",
       "      <td>F</td>\n",
       "      <td>53</td>\n",
       "      <td>010-6593-5091</td>\n",
       "      <td>51292</td>\n",
       "      <td>경상남도 창원시 마산회원구 회원남32길 28-1(회원동)</td>\n",
       "      <td>판잣집, 비닐하우스</td>\n",
       "      <td>1</td>\n",
       "      <td>269</td>\n",
       "      <td>...</td>\n",
       "      <td>8525658</td>\n",
       "      <td>2005663</td>\n",
       "      <td>6</td>\n",
       "      <td>5</td>\n",
       "      <td>N</td>\n",
       "      <td>0</td>\n",
       "      <td>0</td>\n",
       "      <td>N</td>\n",
       "      <td>0</td>\n",
       "      <td>F3</td>\n",
       "    </tr>\n",
       "    <tr>\n",
       "      <th>3</th>\n",
       "      <td>3</td>\n",
       "      <td>박옥점</td>\n",
       "      <td>F</td>\n",
       "      <td>26</td>\n",
       "      <td>010-7714-1345</td>\n",
       "      <td>58541</td>\n",
       "      <td>전라남도 무안군 청계면 구로길 65</td>\n",
       "      <td>다가구 단독주택</td>\n",
       "      <td>7</td>\n",
       "      <td>254</td>\n",
       "      <td>...</td>\n",
       "      <td>2593007</td>\n",
       "      <td>8944424</td>\n",
       "      <td>4</td>\n",
       "      <td>1</td>\n",
       "      <td>N</td>\n",
       "      <td>0</td>\n",
       "      <td>0</td>\n",
       "      <td>N</td>\n",
       "      <td>0</td>\n",
       "      <td>F4</td>\n",
       "    </tr>\n",
       "    <tr>\n",
       "      <th>4</th>\n",
       "      <td>4</td>\n",
       "      <td>윤경념</td>\n",
       "      <td>F</td>\n",
       "      <td>69</td>\n",
       "      <td>010-5360-6014</td>\n",
       "      <td>31741</td>\n",
       "      <td>충청남도 당진시 신평면 신평길 64-6</td>\n",
       "      <td>영업 겸용 단독주택</td>\n",
       "      <td>8</td>\n",
       "      <td>590</td>\n",
       "      <td>...</td>\n",
       "      <td>411525</td>\n",
       "      <td>5125357</td>\n",
       "      <td>5</td>\n",
       "      <td>3</td>\n",
       "      <td>N</td>\n",
       "      <td>0</td>\n",
       "      <td>0</td>\n",
       "      <td>N</td>\n",
       "      <td>0</td>\n",
       "      <td>F5</td>\n",
       "    </tr>\n",
       "    <tr>\n",
       "      <th>...</th>\n",
       "      <td>...</td>\n",
       "      <td>...</td>\n",
       "      <td>...</td>\n",
       "      <td>...</td>\n",
       "      <td>...</td>\n",
       "      <td>...</td>\n",
       "      <td>...</td>\n",
       "      <td>...</td>\n",
       "      <td>...</td>\n",
       "      <td>...</td>\n",
       "      <td>...</td>\n",
       "      <td>...</td>\n",
       "      <td>...</td>\n",
       "      <td>...</td>\n",
       "      <td>...</td>\n",
       "      <td>...</td>\n",
       "      <td>...</td>\n",
       "      <td>...</td>\n",
       "      <td>...</td>\n",
       "      <td>...</td>\n",
       "      <td>...</td>\n",
       "    </tr>\n",
       "    <tr>\n",
       "      <th>94995</th>\n",
       "      <td>94995</td>\n",
       "      <td>갈재희</td>\n",
       "      <td>F</td>\n",
       "      <td>79</td>\n",
       "      <td>010-9796-1142</td>\n",
       "      <td>36447</td>\n",
       "      <td>경상북도 영덕군 달산면 청련길 10-10</td>\n",
       "      <td>다세대주택</td>\n",
       "      <td>8</td>\n",
       "      <td>868</td>\n",
       "      <td>...</td>\n",
       "      <td>835585</td>\n",
       "      <td>6144642</td>\n",
       "      <td>5</td>\n",
       "      <td>1</td>\n",
       "      <td>N</td>\n",
       "      <td>0</td>\n",
       "      <td>0</td>\n",
       "      <td>Y</td>\n",
       "      <td>0</td>\n",
       "      <td>F94996</td>\n",
       "    </tr>\n",
       "    <tr>\n",
       "      <th>94996</th>\n",
       "      <td>94996</td>\n",
       "      <td>림상영</td>\n",
       "      <td>M</td>\n",
       "      <td>53</td>\n",
       "      <td>010-2817-1504</td>\n",
       "      <td>26200</td>\n",
       "      <td>강원특별자치도 영월군 무릉도원면 황정길 253-11</td>\n",
       "      <td>기타</td>\n",
       "      <td>7</td>\n",
       "      <td>875</td>\n",
       "      <td>...</td>\n",
       "      <td>4691445</td>\n",
       "      <td>6000005</td>\n",
       "      <td>5</td>\n",
       "      <td>3</td>\n",
       "      <td>N</td>\n",
       "      <td>0</td>\n",
       "      <td>0</td>\n",
       "      <td>N</td>\n",
       "      <td>0</td>\n",
       "      <td>F94997</td>\n",
       "    </tr>\n",
       "    <tr>\n",
       "      <th>94997</th>\n",
       "      <td>94997</td>\n",
       "      <td>명시라</td>\n",
       "      <td>F</td>\n",
       "      <td>66</td>\n",
       "      <td>010-2536-2511</td>\n",
       "      <td>14614</td>\n",
       "      <td>경기도 부천시 장말로 292(심곡동)</td>\n",
       "      <td>연립주택</td>\n",
       "      <td>4</td>\n",
       "      <td>294</td>\n",
       "      <td>...</td>\n",
       "      <td>8488084</td>\n",
       "      <td>7377056</td>\n",
       "      <td>8</td>\n",
       "      <td>2</td>\n",
       "      <td>N</td>\n",
       "      <td>0</td>\n",
       "      <td>0</td>\n",
       "      <td>N</td>\n",
       "      <td>0</td>\n",
       "      <td>F94998</td>\n",
       "    </tr>\n",
       "    <tr>\n",
       "      <th>94998</th>\n",
       "      <td>94998</td>\n",
       "      <td>롤미라</td>\n",
       "      <td>F</td>\n",
       "      <td>73</td>\n",
       "      <td>010-5091-5053</td>\n",
       "      <td>32755</td>\n",
       "      <td>충청남도 금산군 부리면 물페기길 66</td>\n",
       "      <td>오피스텔</td>\n",
       "      <td>6</td>\n",
       "      <td>986</td>\n",
       "      <td>...</td>\n",
       "      <td>5109440</td>\n",
       "      <td>3625570</td>\n",
       "      <td>3</td>\n",
       "      <td>2</td>\n",
       "      <td>N</td>\n",
       "      <td>0</td>\n",
       "      <td>0</td>\n",
       "      <td>N</td>\n",
       "      <td>0</td>\n",
       "      <td>F94999</td>\n",
       "    </tr>\n",
       "    <tr>\n",
       "      <th>94999</th>\n",
       "      <td>94999</td>\n",
       "      <td>안전웅</td>\n",
       "      <td>M</td>\n",
       "      <td>46</td>\n",
       "      <td>010-9622-1090</td>\n",
       "      <td>10585</td>\n",
       "      <td>경기도 고양시 덕양구 안진6길 12(지축동)</td>\n",
       "      <td>오피스텔</td>\n",
       "      <td>7</td>\n",
       "      <td>44</td>\n",
       "      <td>...</td>\n",
       "      <td>874939</td>\n",
       "      <td>5785351</td>\n",
       "      <td>7</td>\n",
       "      <td>0</td>\n",
       "      <td>N</td>\n",
       "      <td>0</td>\n",
       "      <td>0</td>\n",
       "      <td>N</td>\n",
       "      <td>0</td>\n",
       "      <td>F95000</td>\n",
       "    </tr>\n",
       "  </tbody>\n",
       "</table>\n",
       "<p>95000 rows × 21 columns</p>\n",
       "</div>"
      ],
      "text/plain": [
       "       NUM_SERIAL NAME GENDER  AGE   PHONE_NUMBER  ZIP_CODE  \\\n",
       "0               0  강현심      F   80  010-1826-4535     27218   \n",
       "1               1  서삼봉      F   30  010-1765-1467     12736   \n",
       "2               2  팽상아      F   53  010-6593-5091     51292   \n",
       "3               3  박옥점      F   26  010-7714-1345     58541   \n",
       "4               4  윤경념      F   69  010-5360-6014     31741   \n",
       "...           ...  ...    ...  ...            ...       ...   \n",
       "94995       94995  갈재희      F   79  010-9796-1142     36447   \n",
       "94996       94996  림상영      M   53  010-2817-1504     26200   \n",
       "94997       94997  명시라      F   66  010-2536-2511     14614   \n",
       "94998       94998  롤미라      F   73  010-5091-5053     32755   \n",
       "94999       94999  안전웅      M   46  010-9622-1090     10585   \n",
       "\n",
       "                          HOME_ADDRESS   HOME_TYPE  INCOME_BRACKET  \\\n",
       "0            충청북도 제천시 수산면 옥순봉로6길 61-32  판잣집, 비닐하우스               6   \n",
       "1                경기도 광주시 초월읍 도곡길 109-9       다세대주택               8   \n",
       "2      경상남도 창원시 마산회원구 회원남32길 28-1(회원동)  판잣집, 비닐하우스               1   \n",
       "3                  전라남도 무안군 청계면 구로길 65    다가구 단독주택               7   \n",
       "4                충청남도 당진시 신평면 신평길 64-6  영업 겸용 단독주택               8   \n",
       "...                                ...         ...             ...   \n",
       "94995           경상북도 영덕군 달산면 청련길 10-10       다세대주택               8   \n",
       "94996     강원특별자치도 영월군 무릉도원면 황정길 253-11          기타               7   \n",
       "94997             경기도 부천시 장말로 292(심곡동)        연립주택               4   \n",
       "94998             충청남도 금산군 부리면 물페기길 66        오피스텔               6   \n",
       "94999         경기도 고양시 덕양구 안진6길 12(지축동)        오피스텔               7   \n",
       "\n",
       "       CREDIT_SCORE  ...  AMT_CREDITCARD_PAYMENT  AMT_CASHADVANCE_PAYMENT  \\\n",
       "0               441  ...                 5357418                  8583708   \n",
       "1               515  ...                 8870904                  5328233   \n",
       "2               269  ...                 8525658                  2005663   \n",
       "3               254  ...                 2593007                  8944424   \n",
       "4               590  ...                  411525                  5125357   \n",
       "...             ...  ...                     ...                      ...   \n",
       "94995           868  ...                  835585                  6144642   \n",
       "94996           875  ...                 4691445                  6000005   \n",
       "94997           294  ...                 8488084                  7377056   \n",
       "94998           986  ...                 5109440                  3625570   \n",
       "94999            44  ...                  874939                  5785351   \n",
       "\n",
       "       NUM_CREDITCARD_ISSUANCES  NUM_CREDITCARD_CANCELED  TF_LOAN  \\\n",
       "0                             3                        5        N   \n",
       "1                             3                        1        N   \n",
       "2                             6                        5        N   \n",
       "3                             4                        1        N   \n",
       "4                             5                        3        N   \n",
       "...                         ...                      ...      ...   \n",
       "94995                         5                        1        N   \n",
       "94996                         5                        3        N   \n",
       "94997                         8                        2        N   \n",
       "94998                         3                        2        N   \n",
       "94999                         7                        0        N   \n",
       "\n",
       "      AMT_CREDITLOAN  AMT_CREDITLOAN_OUTSTANDING  TF_PENSION AMT_PENSION  \\\n",
       "0                  0                           0           N           0   \n",
       "1                  0                           0           N           0   \n",
       "2                  0                           0           N           0   \n",
       "3                  0                           0           N           0   \n",
       "4                  0                           0           N           0   \n",
       "...              ...                         ...         ...         ...   \n",
       "94995              0                           0           Y           0   \n",
       "94996              0                           0           N           0   \n",
       "94997              0                           0           N           0   \n",
       "94998              0                           0           N           0   \n",
       "94999              0                           0           N           0   \n",
       "\n",
       "       SERIALNUM  \n",
       "0             F1  \n",
       "1             F2  \n",
       "2             F3  \n",
       "3             F4  \n",
       "4             F5  \n",
       "...          ...  \n",
       "94995     F94996  \n",
       "94996     F94997  \n",
       "94997     F94998  \n",
       "94998     F94999  \n",
       "94999     F95000  \n",
       "\n",
       "[95000 rows x 21 columns]"
      ]
     },
     "execution_count": 57,
     "metadata": {},
     "output_type": "execute_result"
    }
   ],
   "source": [
    "pseudonym_data"
   ]
  },
  {
   "cell_type": "markdown",
   "metadata": {},
   "source": [
    "#### 3. 가명처리 절차 : 가명정보에 프라이버시 보호 모델 적용"
   ]
  },
  {
   "cell_type": "code",
   "execution_count": 25,
   "metadata": {},
   "outputs": [],
   "source": [
    "from pseudonymizer.privacyPreservingModels import PrivacyPreservingModel"
   ]
  },
  {
   "cell_type": "code",
   "execution_count": 27,
   "metadata": {},
   "outputs": [
    {
     "name": "stdout",
     "output_type": "stream",
     "text": [
      "Help on class PrivacyPreservingModel in module pseudonymizer.privacyPreservingModels:\n",
      "\n",
      "class PrivacyPreservingModel(builtins.object)\n",
      " |  PrivacyPreservingModel(dataframe, epsilon)\n",
      " |  \n",
      " |  개인식별가능정보 속성을 기준으로 그룹화된 데이터로 프라이버시 보호 모델을 적용하여 정량적인 위험성을 규정하는 실행 클래스\n",
      " |  \n",
      " |  Methods defined here:\n",
      " |  \n",
      " |  __init__(self, dataframe, epsilon)\n",
      " |      Initialize self.  See help(type(self)) for accurate signature.\n",
      " |  \n",
      " |  __str__(self)\n",
      " |      동질집합에 대한 정보를 문자열로 반환하는 메서드\n",
      " |  \n",
      " |  applyDPrivacy(self, method, boundary, attributes, sensitive_attribute, outlier)\n",
      " |      차분 프라이버시 기법(차등적 정보보호 기능)을 적용하는 메서드\n",
      " |  \n",
      " |  applyKAnonymityOrLDiversity(self, method: str, K: int, L: int, attributes: List[str], sensitive_attribute)\n",
      " |      K-익명성과 L-다양성 모델을 선택적으로 적용하는 메서드\n",
      " |      input\n",
      " |      -----\n",
      " |      method: 프라이버시 보호 모델 메서드를 받고, \n",
      " |      keyword arguments에 딕셔너리 형식으로 각 기법에 필요한 파라미터를 받아옴\n",
      " |  \n",
      " |  applyLocalLDiversity(self, K: int, L: int, attributes: List[str], sensitive_attribute: str, LocalL: int)\n",
      " |  \n",
      " |  applyTCloseness(self, method, quasi_identifiers, sensitive_attribute: str, tolerance: float)\n",
      " |  \n",
      " |  ----------------------------------------------------------------------\n",
      " |  Data descriptors defined here:\n",
      " |  \n",
      " |  __dict__\n",
      " |      dictionary for instance variables (if defined)\n",
      " |  \n",
      " |  __weakref__\n",
      " |      list of weak references to the object (if defined)\n",
      "\n"
     ]
    }
   ],
   "source": [
    "help(PrivacyPreservingModel)"
   ]
  },
  {
   "cell_type": "code",
   "execution_count": null,
   "metadata": {},
   "outputs": [],
   "source": []
  }
 ],
 "metadata": {
  "kernelspec": {
   "display_name": "base",
   "language": "python",
   "name": "python3"
  },
  "language_info": {
   "codemirror_mode": {
    "name": "ipython",
    "version": 3
   },
   "file_extension": ".py",
   "mimetype": "text/x-python",
   "name": "python",
   "nbconvert_exporter": "python",
   "pygments_lexer": "ipython3",
   "version": "3.11.4"
  }
 },
 "nbformat": 4,
 "nbformat_minor": 2
}
