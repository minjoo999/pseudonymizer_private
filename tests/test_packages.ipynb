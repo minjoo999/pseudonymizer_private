{
 "cells": [
  {
   "cell_type": "code",
   "execution_count": 1,
   "metadata": {},
   "outputs": [],
   "source": [
    "# import pymysql\n",
    "# from sqlalchemy import create_engine\n",
    "# import sys\n",
    "# from abc import ABC, abstractmethod\n",
    "# from typing import *\n",
    "\n",
    "import re\n",
    "\n",
    "from prettytable import PrettyTable\n",
    "import pandas as pd\n",
    "pd.options.display.float_format = '{:.30f}'.format\n",
    "import pprint\n",
    "\n",
    "import numpy as np\n",
    "import matplotlib.pyplot as plt\n",
    "import seaborn as sns"
   ]
  },
  {
   "cell_type": "markdown",
   "metadata": {},
   "source": [
    "#### 0. 모듈의 상위 패키지를 파이썬 경로로 설정"
   ]
  },
  {
   "cell_type": "code",
   "execution_count": 2,
   "metadata": {},
   "outputs": [],
   "source": [
    "import sys"
   ]
  },
  {
   "cell_type": "code",
   "execution_count": 3,
   "metadata": {},
   "outputs": [],
   "source": [
    "sys.path.append(\"C:\\Pseudonymizer\\pseudonymizer\")\n",
    "# /path/to/your/module"
   ]
  },
  {
   "cell_type": "markdown",
   "metadata": {},
   "source": [
    "#### 1. MySQL Server 내 데이터베이스 테이블을 Python 스크립트와 연동하여 데이터 로드"
   ]
  },
  {
   "cell_type": "code",
   "execution_count": 4,
   "metadata": {},
   "outputs": [],
   "source": [
    "from pseudonymizer.encryptionPseudonyms.pyMySQLQuery import PyMySQLQuery, ConnectMySQLserver"
   ]
  },
  {
   "cell_type": "code",
   "execution_count": 5,
   "metadata": {},
   "outputs": [],
   "source": [
    "# TEST CODE\n",
    "queryObject = PyMySQLQuery(pw = \"0123\")"
   ]
  },
  {
   "cell_type": "code",
   "execution_count": 6,
   "metadata": {},
   "outputs": [],
   "source": [
    "queryObject.connectDatabase(\n",
    "    serverIP = \"localhost\", \n",
    "    port_num = 3306, \n",
    "    user_name = \"root\", \n",
    "    database_name = \"FINANCIALCONSUMER\", \n",
    "    kr_encoder = \"utf8\")"
   ]
  },
  {
   "cell_type": "code",
   "execution_count": 7,
   "metadata": {},
   "outputs": [],
   "source": [
    "SQL = input(\"SQL 쿼리문 입력변수 = \")\n",
    "    # SELECT * FROM DATA_FINANCE"
   ]
  },
  {
   "cell_type": "code",
   "execution_count": 8,
   "metadata": {},
   "outputs": [],
   "source": [
    "queryObject.dataQueryLanguage(sql = SQL)"
   ]
  },
  {
   "cell_type": "code",
   "execution_count": null,
   "metadata": {},
   "outputs": [],
   "source": [
    "# DATA_FINANCE_TUPLE = queryObject.executeQuery()\n",
    "    # AttributeError: 'NoneType' object has no attribute 'execute'"
   ]
  },
  {
   "cell_type": "code",
   "execution_count": 10,
   "metadata": {},
   "outputs": [],
   "source": [
    "DATA_FINANCE_TABLE = queryObject.executeQueryAsDataFrame()"
   ]
  },
  {
   "cell_type": "code",
   "execution_count": 11,
   "metadata": {},
   "outputs": [
    {
     "name": "stdout",
     "output_type": "stream",
     "text": [
      "<class 'pandas.core.frame.DataFrame'>\n",
      "RangeIndex: 95000 entries, 0 to 94999\n",
      "Data columns (total 20 columns):\n",
      " #   Column                      Non-Null Count  Dtype \n",
      "---  ------                      --------------  ----- \n",
      " 0   NUM_SERIAL                  95000 non-null  int64 \n",
      " 1   NAME                        95000 non-null  object\n",
      " 2   GENDER                      95000 non-null  object\n",
      " 3   AGE                         95000 non-null  int64 \n",
      " 4   PHONE_NUMBER                95000 non-null  object\n",
      " 5   ZIP_CODE                    95000 non-null  int64 \n",
      " 6   HOME_ADDRESS                95000 non-null  object\n",
      " 7   HOME_TYPE                   95000 non-null  object\n",
      " 8   INCOME_BRACKET              95000 non-null  int64 \n",
      " 9   CREDIT_SCORE                95000 non-null  int64 \n",
      " 10  REPAYMENT_RISK_INDEX        95000 non-null  int64 \n",
      " 11  AMT_CREDITCARD_PAYMENT      95000 non-null  int64 \n",
      " 12  AMT_CASHADVANCE_PAYMENT     95000 non-null  int64 \n",
      " 13  NUM_CREDITCARD_ISSUANCES    95000 non-null  int64 \n",
      " 14  NUM_CREDITCARD_CANCELED     95000 non-null  int64 \n",
      " 15  TF_LOAN                     95000 non-null  object\n",
      " 16  AMT_CREDITLOAN              95000 non-null  int64 \n",
      " 17  AMT_CREDITLOAN_OUTSTANDING  95000 non-null  int64 \n",
      " 18  TF_PENSION                  95000 non-null  object\n",
      " 19  AMT_PENSION                 95000 non-null  int64 \n",
      "dtypes: int64(13), object(7)\n",
      "memory usage: 14.5+ MB\n"
     ]
    },
    {
     "data": {
      "text/html": [
       "<div>\n",
       "<style scoped>\n",
       "    .dataframe tbody tr th:only-of-type {\n",
       "        vertical-align: middle;\n",
       "    }\n",
       "\n",
       "    .dataframe tbody tr th {\n",
       "        vertical-align: top;\n",
       "    }\n",
       "\n",
       "    .dataframe thead th {\n",
       "        text-align: right;\n",
       "    }\n",
       "</style>\n",
       "<table border=\"1\" class=\"dataframe\">\n",
       "  <thead>\n",
       "    <tr style=\"text-align: right;\">\n",
       "      <th></th>\n",
       "      <th>NUM_SERIAL</th>\n",
       "      <th>NAME</th>\n",
       "      <th>GENDER</th>\n",
       "      <th>AGE</th>\n",
       "      <th>PHONE_NUMBER</th>\n",
       "      <th>ZIP_CODE</th>\n",
       "      <th>HOME_ADDRESS</th>\n",
       "      <th>HOME_TYPE</th>\n",
       "      <th>INCOME_BRACKET</th>\n",
       "      <th>CREDIT_SCORE</th>\n",
       "      <th>REPAYMENT_RISK_INDEX</th>\n",
       "      <th>AMT_CREDITCARD_PAYMENT</th>\n",
       "      <th>AMT_CASHADVANCE_PAYMENT</th>\n",
       "      <th>NUM_CREDITCARD_ISSUANCES</th>\n",
       "      <th>NUM_CREDITCARD_CANCELED</th>\n",
       "      <th>TF_LOAN</th>\n",
       "      <th>AMT_CREDITLOAN</th>\n",
       "      <th>AMT_CREDITLOAN_OUTSTANDING</th>\n",
       "      <th>TF_PENSION</th>\n",
       "      <th>AMT_PENSION</th>\n",
       "    </tr>\n",
       "  </thead>\n",
       "  <tbody>\n",
       "    <tr>\n",
       "      <th>94997</th>\n",
       "      <td>94997</td>\n",
       "      <td>명시라</td>\n",
       "      <td>female</td>\n",
       "      <td>66</td>\n",
       "      <td>010-2536-2511</td>\n",
       "      <td>14614</td>\n",
       "      <td>경기도 부천시 장말로 292(심곡동)</td>\n",
       "      <td>연립주택</td>\n",
       "      <td>4</td>\n",
       "      <td>294</td>\n",
       "      <td>26</td>\n",
       "      <td>8488084</td>\n",
       "      <td>7377056</td>\n",
       "      <td>8</td>\n",
       "      <td>2</td>\n",
       "      <td>N</td>\n",
       "      <td>0</td>\n",
       "      <td>0</td>\n",
       "      <td>N</td>\n",
       "      <td>0</td>\n",
       "    </tr>\n",
       "    <tr>\n",
       "      <th>94998</th>\n",
       "      <td>94998</td>\n",
       "      <td>롤미라</td>\n",
       "      <td>female</td>\n",
       "      <td>73</td>\n",
       "      <td>010-5091-5053</td>\n",
       "      <td>32755</td>\n",
       "      <td>충청남도 금산군 부리면 물페기길 66</td>\n",
       "      <td>오피스텔</td>\n",
       "      <td>6</td>\n",
       "      <td>986</td>\n",
       "      <td>7</td>\n",
       "      <td>5109440</td>\n",
       "      <td>3625570</td>\n",
       "      <td>3</td>\n",
       "      <td>2</td>\n",
       "      <td>N</td>\n",
       "      <td>0</td>\n",
       "      <td>0</td>\n",
       "      <td>N</td>\n",
       "      <td>0</td>\n",
       "    </tr>\n",
       "    <tr>\n",
       "      <th>94999</th>\n",
       "      <td>94999</td>\n",
       "      <td>안전웅</td>\n",
       "      <td>male</td>\n",
       "      <td>46</td>\n",
       "      <td>010-9622-1090</td>\n",
       "      <td>10585</td>\n",
       "      <td>경기도 고양시 덕양구 안진6길 12(지축동)</td>\n",
       "      <td>오피스텔</td>\n",
       "      <td>7</td>\n",
       "      <td>44</td>\n",
       "      <td>76</td>\n",
       "      <td>874939</td>\n",
       "      <td>5785351</td>\n",
       "      <td>7</td>\n",
       "      <td>0</td>\n",
       "      <td>N</td>\n",
       "      <td>0</td>\n",
       "      <td>0</td>\n",
       "      <td>N</td>\n",
       "      <td>0</td>\n",
       "    </tr>\n",
       "  </tbody>\n",
       "</table>\n",
       "</div>"
      ],
      "text/plain": [
       "       NUM_SERIAL NAME  GENDER  AGE   PHONE_NUMBER  ZIP_CODE  \\\n",
       "94997       94997  명시라  female   66  010-2536-2511     14614   \n",
       "94998       94998  롤미라  female   73  010-5091-5053     32755   \n",
       "94999       94999  안전웅    male   46  010-9622-1090     10585   \n",
       "\n",
       "                   HOME_ADDRESS HOME_TYPE  INCOME_BRACKET  CREDIT_SCORE  \\\n",
       "94997      경기도 부천시 장말로 292(심곡동)      연립주택               4           294   \n",
       "94998      충청남도 금산군 부리면 물페기길 66      오피스텔               6           986   \n",
       "94999  경기도 고양시 덕양구 안진6길 12(지축동)      오피스텔               7            44   \n",
       "\n",
       "       REPAYMENT_RISK_INDEX  AMT_CREDITCARD_PAYMENT  AMT_CASHADVANCE_PAYMENT  \\\n",
       "94997                    26                 8488084                  7377056   \n",
       "94998                     7                 5109440                  3625570   \n",
       "94999                    76                  874939                  5785351   \n",
       "\n",
       "       NUM_CREDITCARD_ISSUANCES  NUM_CREDITCARD_CANCELED TF_LOAN  \\\n",
       "94997                         8                        2       N   \n",
       "94998                         3                        2       N   \n",
       "94999                         7                        0       N   \n",
       "\n",
       "       AMT_CREDITLOAN  AMT_CREDITLOAN_OUTSTANDING TF_PENSION  AMT_PENSION  \n",
       "94997               0                           0          N            0  \n",
       "94998               0                           0          N            0  \n",
       "94999               0                           0          N            0  "
      ]
     },
     "execution_count": 11,
     "metadata": {},
     "output_type": "execute_result"
    }
   ],
   "source": [
    "type(DATA_FINANCE_TABLE)\n",
    "DATA_FINANCE_TABLE.info()\n",
    "DATA_FINANCE_TABLE.tail(3)"
   ]
  },
  {
   "cell_type": "markdown",
   "metadata": {},
   "source": [
    "#### 2. 가명처리 절차 : 개인정보가 포함된 데이터를 비식별조치를 통해 가명정보로 변환"
   ]
  },
  {
   "cell_type": "code",
   "execution_count": null,
   "metadata": {},
   "outputs": [],
   "source": [
    "from pseudonymizer.pseudonymizer import Pseudonymizer"
   ]
  },
  {
   "cell_type": "code",
   "execution_count": null,
   "metadata": {},
   "outputs": [],
   "source": [
    "from pseudonymizer.pseudonym import Pseudonym\n",
    "# ImportError: cannot import name 'Pseudonymizer' from 'pseudonymizer' (unknown location)"
   ]
  },
  {
   "cell_type": "code",
   "execution_count": null,
   "metadata": {},
   "outputs": [],
   "source": []
  }
 ],
 "metadata": {
  "kernelspec": {
   "display_name": "base",
   "language": "python",
   "name": "python3"
  },
  "language_info": {
   "codemirror_mode": {
    "name": "ipython",
    "version": 3
   },
   "file_extension": ".py",
   "mimetype": "text/x-python",
   "name": "python",
   "nbconvert_exporter": "python",
   "pygments_lexer": "ipython3",
   "version": "3.10.9"
  }
 },
 "nbformat": 4,
 "nbformat_minor": 2
}
