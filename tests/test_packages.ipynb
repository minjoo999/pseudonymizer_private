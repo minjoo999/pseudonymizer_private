{
 "cells": [
  {
   "cell_type": "code",
   "execution_count": null,
   "metadata": {},
   "outputs": [],
   "source": [
    "# import pymysql\n",
    "# from sqlalchemy import create_engine\n",
    "# import sys\n",
    "# from abc import ABC, abstractmethod\n",
    "# from typing import *\n",
    "\n",
    "import re\n",
    "\n",
    "from prettytable import PrettyTable\n",
    "import pandas as pd\n",
    "pd.options.display.float_format = '{:.30f}'.format\n",
    "import pprint\n",
    "\n",
    "import numpy as np\n",
    "import matplotlib.pyplot as plt\n",
    "import seaborn as sns"
   ]
  },
  {
   "cell_type": "markdown",
   "metadata": {},
   "source": [
    "#### **0. 모듈의 상위 패키지를 파이썬 경로로 설정**"
   ]
  },
  {
   "cell_type": "code",
   "execution_count": null,
   "metadata": {},
   "outputs": [],
   "source": [
    "import sys"
   ]
  },
  {
   "cell_type": "code",
   "execution_count": null,
   "metadata": {},
   "outputs": [],
   "source": [
    "# sys.path\n",
    "sys.path.append(\"C:\\Pseudonymizer\\pseudonymizer\")\n",
    "# sys.path.append(\"/Users/minjoo/codeStudy/psudonymizerTeam/pseudonymizer\")\n",
    "# /path/to/your/module"
   ]
  },
  {
   "cell_type": "markdown",
   "metadata": {},
   "source": [
    "#### **1. MySQL Server 내 데이터베이스 테이블을 Python 스크립트와 연동하여 데이터 로드**"
   ]
  },
  {
   "cell_type": "code",
   "execution_count": null,
   "metadata": {},
   "outputs": [],
   "source": [
    "from pseudonymizer.encryptionPseudonyms.pyMySQLQuery import PyMySQLQuery, ConnectMySQLserver"
   ]
  },
  {
   "cell_type": "code",
   "execution_count": null,
   "metadata": {},
   "outputs": [],
   "source": [
    "# TEST CODE\n",
    "queryObject = PyMySQLQuery(pw = \"0123\")\n",
    "# queryObject = PyMySQLQuery(pw = \"1234\")"
   ]
  },
  {
   "cell_type": "code",
   "execution_count": null,
   "metadata": {},
   "outputs": [],
   "source": [
    "queryObject.connectDatabase(\n",
    "    serverIP = \"localhost\", \n",
    "    port_num = 3306, \n",
    "    user_name = \"root\", \n",
    "    database_name = \"FINANCIALCONSUMER\", \n",
    "    kr_encoder = \"utf8\")\n",
    "SQL = \"SELECT * FROM DATA_FINANCE\"\n",
    "queryObject.dataQueryLanguage(sql = SQL)"
   ]
  },
  {
   "cell_type": "code",
   "execution_count": null,
   "metadata": {},
   "outputs": [],
   "source": [
    "# DATA_FINANCE_TUPLE = queryObject.executeQuery()\n",
    "    # AttributeError: 'NoneType' object has no attribute 'execute'"
   ]
  },
  {
   "cell_type": "code",
   "execution_count": null,
   "metadata": {},
   "outputs": [],
   "source": [
    "DATA_FINANCE_TABLE = queryObject.executeQueryAsDataFrame()"
   ]
  },
  {
   "cell_type": "code",
   "execution_count": null,
   "metadata": {},
   "outputs": [],
   "source": [
    "type(DATA_FINANCE_TABLE)\n",
    "DATA_FINANCE_TABLE.info()\n",
    "DATA_FINANCE_TABLE.tail(3)"
   ]
  },
  {
   "cell_type": "code",
   "execution_count": null,
   "metadata": {},
   "outputs": [],
   "source": [
    "queryObject2 = PyMySQLQuery(pw = \"0123\")\n",
    "queryObject2.connectDatabase(\n",
    "    serverIP = \"localhost\", \n",
    "    port_num = 3306, \n",
    "    user_name = \"root\", \n",
    "    database_name = \"FINANCIALCONSUMER\", \n",
    "    kr_encoder = \"utf8\")\n",
    "SQL = \"SELECT * FROM DATA_RETAIL\"\n",
    "queryObject2.dataQueryLanguage(sql = SQL)\n",
    "DATA_RETAIL_TABLE = queryObject2.executeQueryAsDataFrame()"
   ]
  },
  {
   "cell_type": "code",
   "execution_count": null,
   "metadata": {},
   "outputs": [],
   "source": [
    "type(DATA_RETAIL_TABLE)\n",
    "DATA_RETAIL_TABLE.info()\n",
    "DATA_RETAIL_TABLE.tail(3)"
   ]
  },
  {
   "cell_type": "markdown",
   "metadata": {},
   "source": [
    "#### 2. **가명처리 절차 : 개인정보가 포함된 데이터를 비식별조치를 통해 가명정보로 변환**"
   ]
  },
  {
   "cell_type": "code",
   "execution_count": null,
   "metadata": {},
   "outputs": [],
   "source": [
    "from pseudonymizer.pseudonymizer import Pseudonymizer"
   ]
  },
  {
   "cell_type": "code",
   "execution_count": null,
   "metadata": {},
   "outputs": [],
   "source": [
    "from pseudonymizer.pseudonym import Pseudonym, PseudonymizerModule\n",
    "    # ImportError: cannot import name 'Pseudonymizer' from 'pseudonymizer' (unknown location)"
   ]
  },
  {
   "cell_type": "code",
   "execution_count": null,
   "metadata": {},
   "outputs": [],
   "source": [
    "help(Pseudonym)"
   ]
  },
  {
   "cell_type": "code",
   "execution_count": null,
   "metadata": {},
   "outputs": [],
   "source": [
    "from pseudonymizer.pseudonymizers.maskingPseudonymizer import MaskingPseudonymizer\n",
    "from pseudonymizer.pseudonymizers.charcategorization import CategorizationOfCharacter\n",
    "from pseudonymizer.pseudonymizers.numcategorization import CategorizationOfNumeric\n",
    "from pseudonymizer.pseudonymizers.columncategorization import CategorizationOfColumn\n",
    "from pseudonymizer.pseudonymizers.microAggregation import MicroAggregation\n",
    "from pseudonymizer.pseudonymizers.randomRoundingPseudonymizer import RandomRoundingPseudonymizer\n",
    "from pseudonymizer.pseudonymizers.topandBottomCoding import TopandBottomCoding"
   ]
  },
  {
   "cell_type": "code",
   "execution_count": null,
   "metadata": {},
   "outputs": [],
   "source": [
    "# 가명처리 기법 적용 객체 생성\n",
    "pseudonym_object = Pseudonym(\n",
    "    dataframe = DATA_FINANCE_TABLE,\n",
    "    pseudonymizer_module = None\n",
    ")\n",
    "# 원본 데이터의 컬럼 정보 출력(.info())\n",
    "# print(pseudonym_object)"
   ]
  },
  {
   "cell_type": "code",
   "execution_count": null,
   "metadata": {},
   "outputs": [],
   "source": [
    "# 가명처리 기법 적용 객체 생성\n",
    "pseudonym_object2 = Pseudonym(\n",
    "    dataframe = DATA_RETAIL_TABLE,\n",
    "    pseudonymizer_module = None\n",
    ")"
   ]
  },
  {
   "cell_type": "code",
   "execution_count": null,
   "metadata": {},
   "outputs": [],
   "source": [
    "# 속성값 조합을 이용한 동질집합 생성\n",
    "pseudonym_object.categorizeEquivalentClass(\n",
    "    attributes = [\"NUM_CREDITCARD_ISSUANCES\", \"TF_LOAN\", \"TF_PENSION\"]\n",
    ")"
   ]
  },
  {
   "cell_type": "code",
   "execution_count": null,
   "metadata": {},
   "outputs": [],
   "source": [
    "# 속성값 조합을 이용한 동질집합 생성\n",
    "pseudonym_object2.categorizeEquivalentClass(\n",
    "    attributes=[\"GENDER\", \"AGE\"]\n",
    ")"
   ]
  },
  {
   "cell_type": "code",
   "execution_count": null,
   "metadata": {},
   "outputs": [],
   "source": [
    "# 동질집합 반환\n",
    "pseudonym_object.countEquivalentClass()"
   ]
  },
  {
   "cell_type": "markdown",
   "metadata": {},
   "source": [
    "```\n",
    "# 속성값 조합을 이용한 동질집합 생성\n",
    "pseudonym_object.categorizeEquivalentClass(\n",
    "    attributes = [\"NUM_CREDITCARD_ISSUANCES\", \"TF_LOAN\", \"TF_PENSION\"]\n",
    ")\n",
    "```"
   ]
  },
  {
   "cell_type": "code",
   "execution_count": null,
   "metadata": {},
   "outputs": [],
   "source": [
    "# 동질집합 반환\n",
    "pseudonym_object2.countEquivalentClass()"
   ]
  },
  {
   "cell_type": "markdown",
   "metadata": {},
   "source": [
    "---"
   ]
  },
  {
   "cell_type": "markdown",
   "metadata": {},
   "source": [
    "##### **1) 가명처리기법 기능 모듈 로드: 연속형 변수 컬럼의 구간 범주화**"
   ]
  },
  {
   "cell_type": "code",
   "execution_count": null,
   "metadata": {},
   "outputs": [],
   "source": [
    "# from pseudonymizer.pseudonymizers.columncategorization import CategorizationOfColumn\n",
    "categorize_col = CategorizationOfColumn(numeric_type=\"bin\", grouping_standard=[\"A\", \"B\", \"C\"], right=True, ascending=False)"
   ]
  },
  {
   "cell_type": "code",
   "execution_count": null,
   "metadata": {},
   "outputs": [],
   "source": [
    "categorize_col"
   ]
  },
  {
   "cell_type": "markdown",
   "metadata": {},
   "source": [
    "##### **2.1) 가명처리기법 기능 모듈 로드: 문자형 변수 컬럼의 사용자 정의 범주화**"
   ]
  },
  {
   "cell_type": "code",
   "execution_count": null,
   "metadata": {},
   "outputs": [],
   "source": [
    "# from pseudonymizer.pseudonymizers.charcategorization import CategorizationOfCharacter\n",
    "catecorize_char_def = CategorizationOfCharacter(category_type = \"user_definition\", category_mapping = {\"F\": [\"female\"], \"M\": [\"male\"]})"
   ]
  },
  {
   "cell_type": "code",
   "execution_count": null,
   "metadata": {},
   "outputs": [],
   "source": [
    "catecorize_char_def"
   ]
  },
  {
   "cell_type": "markdown",
   "metadata": {},
   "source": [
    "##### **2.2)가명처리기법 기능 모듈 로드: 문자형 변수 컬럼의 날짜 범주화**"
   ]
  },
  {
   "cell_type": "code",
   "execution_count": null,
   "metadata": {},
   "outputs": [],
   "source": [
    "# from pseudonymizer.pseudonymizers.charcategorization import CategorizationOfCharacter\n",
    "categorize_char_date = CategorizationOfCharacter(category_type=\"date\", category_mapping=None)"
   ]
  },
  {
   "cell_type": "code",
   "execution_count": null,
   "metadata": {},
   "outputs": [],
   "source": [
    "categorize_char_date"
   ]
  },
  {
   "cell_type": "markdown",
   "metadata": {},
   "source": [
    "##### **3.1) 가명처리기법 기능 모듈 로드: 특정 동질집합 특정 민감속성값의 연속형 변수 컬럼의 집계값 대체**"
   ]
  },
  {
   "cell_type": "code",
   "execution_count": null,
   "metadata": {},
   "outputs": [],
   "source": [
    "# from pseudonymizer.pseudonymizers.microAggregation import MicroAggregation\n",
    "micro_aggregation = MicroAggregation(calulate_type=\"average\", quasi_identifier=(1, 'N', 'N'))"
   ]
  },
  {
   "cell_type": "code",
   "execution_count": null,
   "metadata": {},
   "outputs": [],
   "source": [
    "micro_aggregation"
   ]
  },
  {
   "cell_type": "markdown",
   "metadata": {},
   "source": [
    "##### **4.1) 가명처리기법 기능 모듈 로드: 연속형 변수 컬럼의 나이 구간 범주화**"
   ]
  },
  {
   "cell_type": "code",
   "execution_count": null,
   "metadata": {},
   "outputs": [],
   "source": [
    "# from pseudonymizer.pseudonymizers.numcategorization import CategorizationOfNumeric\n",
    "categorize_num = CategorizationOfNumeric(numeric_type = \"age\", grouping_standard = \"5bin\")"
   ]
  },
  {
   "cell_type": "code",
   "execution_count": null,
   "metadata": {},
   "outputs": [],
   "source": [
    "categorize_num"
   ]
  },
  {
   "cell_type": "markdown",
   "metadata": {},
   "source": [
    "##### **4.2) 가명처리기법 기능 모듈 로드: 연속형 변수 컬럼의 사용자 정의 구간 범주화**"
   ]
  },
  {
   "cell_type": "code",
   "execution_count": null,
   "metadata": {},
   "outputs": [],
   "source": [
    "# from pseudonymizer.pseudonymizers.numcategorization import CategorizationOfNumeric\n",
    "categorize_num_def = CategorizationOfNumeric(\n",
    "    numeric_type=\"user_definition\", category_mapping={\"A\": (0, 10000), \"B\": (10000, 50000), \"C\": (50000, 100000)})"
   ]
  },
  {
   "cell_type": "code",
   "execution_count": null,
   "metadata": {},
   "outputs": [],
   "source": [
    "categorize_num_def"
   ]
  },
  {
   "cell_type": "markdown",
   "metadata": {},
   "source": [
    "##### **5) 가명처리기법 기능 모듈 로드: 랜덤 라운딩**"
   ]
  },
  {
   "cell_type": "code",
   "execution_count": null,
   "metadata": {},
   "outputs": [],
   "source": [
    "random_rounding = RandomRoundingPseudonymizer(rounding_type=\"round\")"
   ]
  },
  {
   "cell_type": "code",
   "execution_count": null,
   "metadata": {},
   "outputs": [],
   "source": [
    "random_rounding"
   ]
  },
  {
   "cell_type": "markdown",
   "metadata": {},
   "source": [
    "##### **6.1) 가명처리기법 기능 모듈 로드: 모든 컬럼 마스킹 수행(비복원조치)**"
   ]
  },
  {
   "cell_type": "code",
   "execution_count": null,
   "metadata": {},
   "outputs": [],
   "source": [
    "# from pseudonymizer.pseudonymizers.maskingPseudonymizer import MaskingPseudonymizer\n",
    "masking = MaskingPseudonymizer(data_type=\"name\", masking_domain=True, masking_part=None)"
   ]
  },
  {
   "cell_type": "code",
   "execution_count": null,
   "metadata": {},
   "outputs": [],
   "source": [
    "masking"
   ]
  },
  {
   "cell_type": "markdown",
   "metadata": {},
   "source": [
    "---"
   ]
  },
  {
   "cell_type": "code",
   "execution_count": null,
   "metadata": {},
   "outputs": [],
   "source": [
    "adad = \"sdsd\""
   ]
  },
  {
   "cell_type": "code",
   "execution_count": null,
   "metadata": {},
   "outputs": [],
   "source": [
    "# 가명처리 기법 클래스 입력\n",
    "pseudonym_object.addPseudonymizer(\n",
    "    pseudonymizer = adad\n",
    ")\n",
    "# 입력받은 sdsd 기술은 가명처리 기법에 추가할 수 없습니다."
   ]
  },
  {
   "cell_type": "code",
   "execution_count": null,
   "metadata": {},
   "outputs": [],
   "source": [
    "# 적용 컬럼과 여러 가명처리 기법 정의\n",
    "# 1)\n",
    "pseudonym_object.addDictionary(\n",
    "    column = \"ZIP_CODE\",\n",
    "    pseudonymizers = [categorize_col]\n",
    ")"
   ]
  },
  {
   "cell_type": "code",
   "execution_count": null,
   "metadata": {},
   "outputs": [],
   "source": [
    "# 4)\n",
    "pseudonym_object.addDictionary(\n",
    "    column = \"CREDIT_SCORE\",\n",
    "    pseudonymizers = [micro_aggregation]\n",
    ")"
   ]
  },
  {
   "cell_type": "code",
   "execution_count": null,
   "metadata": {},
   "outputs": [],
   "source": [
    "# 2.1)\n",
    "pseudonym_object.addDictionary(\n",
    "    column=\"GENDER\",\n",
    "    pseudonymizers=[categorize_char]\n",
    ")"
   ]
  },
  {
   "cell_type": "code",
   "execution_count": null,
   "metadata": {},
   "outputs": [],
   "source": [
    "# 2.2) \n",
    "pseudonym_object.addDictionary(\n",
    "    column=\"AGE\",\n",
    "    pseudonymizers=[categorize_char_age]\n",
    ")"
   ]
  },
  {
   "cell_type": "code",
   "execution_count": null,
   "metadata": {},
   "outputs": [],
   "source": [
    "# 4.1)\n",
    "pseudonym_object2.addDictionary(\n",
    "    column=\"ZIP_CODE\",\n",
    "    pseudonymizers=[categorize_num_def]\n",
    ")"
   ]
  },
  {
   "cell_type": "code",
   "execution_count": null,
   "metadata": {},
   "outputs": [],
   "source": [
    "# 3.1)\n",
    "pseudonym_object2.addDictionary(\n",
    "    column=\"ZIP_CODE\",\n",
    "    pseudonymizers=[categorize_num_def]\n",
    ")"
   ]
  },
  {
   "cell_type": "code",
   "execution_count": null,
   "metadata": {},
   "outputs": [],
   "source": [
    "# 5)\n",
    "pseudonym_object2.addDictionary(\n",
    "    column=\"AMT_PURCHASES_BOOKS\",\n",
    "    pseudonymizers=[random_rounding]\n",
    ")"
   ]
  },
  {
   "cell_type": "code",
   "execution_count": null,
   "metadata": {},
   "outputs": [],
   "source": [
    "# 6.1)\n",
    "pseudonym_object.addDictionary(\n",
    "    column=\"NAME\",\n",
    "    pseudonymizers=[masking]\n",
    ")"
   ]
  },
  {
   "cell_type": "markdown",
   "metadata": {},
   "source": [
    "---"
   ]
  },
  {
   "cell_type": "code",
   "execution_count": null,
   "metadata": {},
   "outputs": [],
   "source": [
    "# 가명처리 수행\n",
    "pseudonym_object.pseudonymizeData()\n",
    "pseudonym_object2.pseudonymizeData()"
   ]
  },
  {
   "cell_type": "code",
   "execution_count": null,
   "metadata": {},
   "outputs": [],
   "source": [
    "# 가명정보 반환\n",
    "pseudonym_data = pseudonym_object.getPseudonymizedDataframe()\n",
    "pseudonym_data2 = pseudonym_object2.getPseudonymizedDataframe()"
   ]
  },
  {
   "cell_type": "code",
   "execution_count": null,
   "metadata": {},
   "outputs": [],
   "source": [
    "display(pseudonym_data)\n",
    "display(pseudonym_data2)"
   ]
  },
  {
   "cell_type": "code",
   "execution_count": null,
   "metadata": {},
   "outputs": [],
   "source": [
    "pseudonym_object2._pseudonymDictionary"
   ]
  },
  {
   "cell_type": "code",
   "execution_count": null,
   "metadata": {},
   "outputs": [],
   "source": [
    "pseudonym_object2.pseudonymizeData()"
   ]
  },
  {
   "cell_type": "code",
   "execution_count": null,
   "metadata": {},
   "outputs": [],
   "source": [
    "pseudonym_object2.getPseudonymizedDataframe()"
   ]
  },
  {
   "cell_type": "code",
   "execution_count": null,
   "metadata": {},
   "outputs": [],
   "source": []
  },
  {
   "cell_type": "code",
   "execution_count": null,
   "metadata": {},
   "outputs": [],
   "source": []
  },
  {
   "cell_type": "code",
   "execution_count": null,
   "metadata": {},
   "outputs": [],
   "source": [
    "pseudonym_object2.equivalent_class"
   ]
  },
  {
   "cell_type": "code",
   "execution_count": null,
   "metadata": {},
   "outputs": [],
   "source": [
    "pseudonym_object2.pseudonymizeData()"
   ]
  },
  {
   "cell_type": "code",
   "execution_count": null,
   "metadata": {},
   "outputs": [],
   "source": [
    "pseudonym_object2.getPseudonymizedDataframe()"
   ]
  },
  {
   "cell_type": "code",
   "execution_count": null,
   "metadata": {},
   "outputs": [],
   "source": [
    "pseudonym_object = Pseudonym(\n",
    "    dataframe = DATA_FINANCE_TABLE,\n",
    "    pseudonymizer_module = None\n",
    ")"
   ]
  },
  {
   "cell_type": "code",
   "execution_count": null,
   "metadata": {},
   "outputs": [],
   "source": [
    "pseudonym_object.addDictionary(\n",
    "    column=\"ZIP_CODE\",\n",
    "    pseudonymizers=[rd]\n",
    ")"
   ]
  },
  {
   "cell_type": "code",
   "execution_count": null,
   "metadata": {},
   "outputs": [],
   "source": [
    "pseudonym_object.pseudonymizeData()"
   ]
  },
  {
   "cell_type": "code",
   "execution_count": null,
   "metadata": {},
   "outputs": [],
   "source": [
    "pseudonym_object.getPseudonymizedDataframe()"
   ]
  },
  {
   "cell_type": "code",
   "execution_count": null,
   "metadata": {},
   "outputs": [],
   "source": [
    "pseudonym_object = Pseudonym(\n",
    "    dataframe = DATA_FINANCE_TABLE,\n",
    "    pseudonymizer_module = None\n",
    ")"
   ]
  },
  {
   "cell_type": "code",
   "execution_count": null,
   "metadata": {},
   "outputs": [],
   "source": [
    "pseudonym_object = Pseudonym(\n",
    "    dataframe = DATA_RETAIL_TABLE,\n",
    "    pseudonymizer_module = None\n",
    ")"
   ]
  },
  {
   "cell_type": "markdown",
   "metadata": {},
   "source": [
    "---"
   ]
  },
  {
   "cell_type": "markdown",
   "metadata": {},
   "source": [
    "#### **3. 가명처리 절차 : 가명정보에 프라이버시 보호 모델 적용**"
   ]
  },
  {
   "cell_type": "code",
   "execution_count": null,
   "metadata": {},
   "outputs": [],
   "source": [
    "from pseudonymizer.privacyPreservingModels import PrivacyPreservingModel"
   ]
  },
  {
   "cell_type": "code",
   "execution_count": null,
   "metadata": {},
   "outputs": [],
   "source": [
    "help(PrivacyPreservingModel)"
   ]
  },
  {
   "cell_type": "code",
   "execution_count": null,
   "metadata": {},
   "outputs": [],
   "source": []
  }
 ],
 "metadata": {
  "kernelspec": {
   "display_name": "base",
   "language": "python",
   "name": "python3"
  },
  "language_info": {
   "codemirror_mode": {
    "name": "ipython",
    "version": 3
   },
   "file_extension": ".py",
   "mimetype": "text/x-python",
   "name": "python",
   "nbconvert_exporter": "python",
   "pygments_lexer": "ipython3",
   "version": "3.11.4"
  }
 },
 "nbformat": 4,
 "nbformat_minor": 2
}
